{
  "nbformat": 4,
  "nbformat_minor": 0,
  "metadata": {
    "colab": {
      "name": "exemplo-easyOCR-CV.ipynb",
      "provenance": []
    },
    "kernelspec": {
      "name": "python3",
      "display_name": "Python 3"
    },
    "language_info": {
      "name": "python"
    },
    "accelerator": "GPU"
  },
  "cells": [
    {
      "cell_type": "code",
      "metadata": {
        "colab": {
          "base_uri": "https://localhost:8080/"
        },
        "id": "uv3q51jRUNv2",
        "outputId": "8ee12339-c845-471b-fc35-bddde3f00154"
      },
      "source": [
        "!pip install torchvision torchaudio"
      ],
      "execution_count": 1,
      "outputs": [
        {
          "output_type": "stream",
          "text": [
            "Requirement already satisfied: torchvision in /usr/local/lib/python3.7/dist-packages (0.9.1+cu101)\n",
            "Collecting torchaudio\n",
            "\u001b[?25l  Downloading https://files.pythonhosted.org/packages/aa/55/01ad9244bcd595e39cea5ce30726a7fe02fd963d07daeb136bfe7e23f0a5/torchaudio-0.8.1-cp37-cp37m-manylinux1_x86_64.whl (1.9MB)\n",
            "\u001b[K     |████████████████████████████████| 1.9MB 7.1MB/s \n",
            "\u001b[?25hRequirement already satisfied: pillow>=4.1.1 in /usr/local/lib/python3.7/dist-packages (from torchvision) (7.1.2)\n",
            "Requirement already satisfied: numpy in /usr/local/lib/python3.7/dist-packages (from torchvision) (1.19.5)\n",
            "Requirement already satisfied: torch==1.8.1 in /usr/local/lib/python3.7/dist-packages (from torchvision) (1.8.1+cu101)\n",
            "Requirement already satisfied: typing-extensions in /usr/local/lib/python3.7/dist-packages (from torch==1.8.1->torchvision) (3.7.4.3)\n",
            "Installing collected packages: torchaudio\n",
            "Successfully installed torchaudio-0.8.1\n"
          ],
          "name": "stdout"
        }
      ]
    },
    {
      "cell_type": "code",
      "metadata": {
        "colab": {
          "base_uri": "https://localhost:8080/"
        },
        "id": "gNwgNWRIUWzg",
        "outputId": "358bfd07-3b7b-40d5-f21f-19fe06136127"
      },
      "source": [
        "!pip install easyocr"
      ],
      "execution_count": 2,
      "outputs": [
        {
          "output_type": "stream",
          "text": [
            "Collecting easyocr\n",
            "\u001b[?25l  Downloading https://files.pythonhosted.org/packages/6f/25/858a0245b7aa25ac955bff0e815551a27bde65f4f52a346b0fd3b8c3738e/easyocr-1.3.1-py3-none-any.whl (63.2MB)\n",
            "\u001b[K     |████████████████████████████████| 63.2MB 45kB/s \n",
            "\u001b[?25hRequirement already satisfied: numpy in /usr/local/lib/python3.7/dist-packages (from easyocr) (1.19.5)\n",
            "Requirement already satisfied: scipy in /usr/local/lib/python3.7/dist-packages (from easyocr) (1.4.1)\n",
            "Requirement already satisfied: Pillow in /usr/local/lib/python3.7/dist-packages (from easyocr) (7.1.2)\n",
            "Requirement already satisfied: torchvision>=0.5 in /usr/local/lib/python3.7/dist-packages (from easyocr) (0.9.1+cu101)\n",
            "Requirement already satisfied: scikit-image in /usr/local/lib/python3.7/dist-packages (from easyocr) (0.16.2)\n",
            "Requirement already satisfied: opencv-python in /usr/local/lib/python3.7/dist-packages (from easyocr) (4.1.2.30)\n",
            "Collecting python-bidi\n",
            "  Downloading https://files.pythonhosted.org/packages/33/b0/f942d146a2f457233baaafd6bdf624eba8e0f665045b4abd69d1b62d097d/python_bidi-0.4.2-py2.py3-none-any.whl\n",
            "Requirement already satisfied: PyYAML in /usr/local/lib/python3.7/dist-packages (from easyocr) (3.13)\n",
            "Requirement already satisfied: torch in /usr/local/lib/python3.7/dist-packages (from easyocr) (1.8.1+cu101)\n",
            "Requirement already satisfied: matplotlib!=3.0.0,>=2.0.0 in /usr/local/lib/python3.7/dist-packages (from scikit-image->easyocr) (3.2.2)\n",
            "Requirement already satisfied: networkx>=2.0 in /usr/local/lib/python3.7/dist-packages (from scikit-image->easyocr) (2.5.1)\n",
            "Requirement already satisfied: PyWavelets>=0.4.0 in /usr/local/lib/python3.7/dist-packages (from scikit-image->easyocr) (1.1.1)\n",
            "Requirement already satisfied: imageio>=2.3.0 in /usr/local/lib/python3.7/dist-packages (from scikit-image->easyocr) (2.4.1)\n",
            "Requirement already satisfied: six in /usr/local/lib/python3.7/dist-packages (from python-bidi->easyocr) (1.15.0)\n",
            "Requirement already satisfied: typing-extensions in /usr/local/lib/python3.7/dist-packages (from torch->easyocr) (3.7.4.3)\n",
            "Requirement already satisfied: kiwisolver>=1.0.1 in /usr/local/lib/python3.7/dist-packages (from matplotlib!=3.0.0,>=2.0.0->scikit-image->easyocr) (1.3.1)\n",
            "Requirement already satisfied: python-dateutil>=2.1 in /usr/local/lib/python3.7/dist-packages (from matplotlib!=3.0.0,>=2.0.0->scikit-image->easyocr) (2.8.1)\n",
            "Requirement already satisfied: cycler>=0.10 in /usr/local/lib/python3.7/dist-packages (from matplotlib!=3.0.0,>=2.0.0->scikit-image->easyocr) (0.10.0)\n",
            "Requirement already satisfied: pyparsing!=2.0.4,!=2.1.2,!=2.1.6,>=2.0.1 in /usr/local/lib/python3.7/dist-packages (from matplotlib!=3.0.0,>=2.0.0->scikit-image->easyocr) (2.4.7)\n",
            "Requirement already satisfied: decorator<5,>=4.3 in /usr/local/lib/python3.7/dist-packages (from networkx>=2.0->scikit-image->easyocr) (4.4.2)\n",
            "Installing collected packages: python-bidi, easyocr\n",
            "Successfully installed easyocr-1.3.1 python-bidi-0.4.2\n"
          ],
          "name": "stdout"
        }
      ]
    },
    {
      "cell_type": "code",
      "metadata": {
        "id": "qwRXqGiPUb6u"
      },
      "source": [
        "import easyocr"
      ],
      "execution_count": 3,
      "outputs": []
    },
    {
      "cell_type": "code",
      "metadata": {
        "id": "t2SAKz8UUgR4"
      },
      "source": [
        "IMAGE_PATH = '/content/arthur.jpg'"
      ],
      "execution_count": 46,
      "outputs": []
    },
    {
      "cell_type": "code",
      "metadata": {
        "id": "AzS4eRdEUpz4"
      },
      "source": [
        "reader = easyocr.Reader(['pt'], gpu = True)\n",
        "result = reader.readtext(IMAGE_PATH)"
      ],
      "execution_count": 47,
      "outputs": []
    },
    {
      "cell_type": "code",
      "metadata": {
        "id": "Ghfp3mbVWNVI"
      },
      "source": [
        "string = \"\"\n",
        "for i in range(len(result)):\n",
        "  string = string + result[i][1] + \" \""
      ],
      "execution_count": 48,
      "outputs": []
    },
    {
      "cell_type": "code",
      "metadata": {
        "colab": {
          "base_uri": "https://localhost:8080/",
          "height": 375
        },
        "id": "0kpY-gcfXKgY",
        "outputId": "5f8e6768-580b-4efa-d765-9503a1164eee"
      },
      "source": [
        "string[:-30]"
      ],
      "execution_count": 55,
      "outputs": [
        {
          "output_type": "execute_result",
          "data": {
            "application/vnd.google.colaboratory.intrinsic+json": {
              "type": "string"
            },
            "text/plain": [
              "'Árthur Tolfo Pinheiro Engenheiro de Computação in linkedin.com/in/árthur-tolfo-pinheiro-5709bb168 55 55 996529772 arthurpinheiro3s7@gmail com Localização atual : Santa Maria; Rio Grande do Sul Brasil 1 Nascido em 19 de Abril de 1996 (24 anos) Possuo um ano de experiência trabalhando com 0 desenvolvimento de software para testes de hardware na COWMED. Além disso; fui membro ativo de uma empresa júnior (CompAct Jr) de desenvolvimento de software: E hoje trabalho fulltime com desenvolvimento web há dois anos. Meus interesses são desenvolvimento de software para aplicações web e mobile; sistemas embarcados; e automação de processos. Habilidades Principal C#, TypeScript e Python Linguagens de baixo nível C, Assembly e VHDL DevOps : Docker; Kubernetes e Gcloud Frameworks Bootstrap; jQuery; React Js, React Native (com typescript), AspNet MVC, AspNet Core e Flask Banco de dados PostgreSQL, Sql Server; MySql e SQLite3 Sistemas Embarcados RFM9SW , ATmega328p, NRF24LOl+, ESP8266, família MSP430 e Raspberry Pi 3 B Ferramentas de Desenvolvimento Vs Code, Visual Studio, PyCharm, DataGrip, DBEaver Experiência Profissional Hoje FullStack developer; Black Sul Software; Santa Maria Mar. de 2019 Criação e manutenção de funcionalidades para dois sistemas : força de vendas (dashboards e afins) evenda de serviços automobilísticos Arquiteturar e migrar sistema legado para tecnologias mais modernas Asp Net Mvc 4 - C# Asp Net Core React Js HTML CSS Python PostgreSQL Dez. de 2018 Estagiário atuando como desenvolvedor de software para testes de hardware; COWMED; Santa Maria Jan. de 2018 Testes de stress de hardware Desenvolvimento de protocolo de comunicação para os testes Desenvolvimento de interface gráfica para a ferramenta de testes Desenvolvimento de RestAPI para 0 sistema de testes Desenvolvimento de scripts bash para automação do sistema de deploy de manutenção Python 3 Bash Scripts PostgreSQL Flask Dez. de 2017 Desenvolvedor Web; CompAct Jr; Santa Maria Julho de 2017 Desenvolvimento de sites estáticos Gestor do desenvolvimento de sites Levantamento de requisitos através de reuniões com clientes Membro do setor de gestão de pessoas HTML5 CSS 3 JavaScript Wordpress Línguas Estrangeiras Forças Bom ouvinte Inglês (leitura e escrita) Bom trabalhador em grupo Persistência Inglês (fala) Educação 2013-2018 Bacharel em Engenharia de Computação pela Universidade '"
            ]
          },
          "metadata": {
            "tags": []
          },
          "execution_count": 55
        }
      ]
    }
  ]
}