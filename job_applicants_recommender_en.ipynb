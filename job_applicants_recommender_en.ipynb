{
 "cells": [
  {
   "cell_type": "markdown",
   "metadata": {},
   "source": [
    "# Job Applicants Recommender:"
   ]
  },
  {
   "cell_type": "markdown",
   "metadata": {},
   "source": [
    "The use of artificial intelligence (AI) has been gaining more and more notoriety in various sectors of society. In addition to AI, talent recruitment is also becoming increasingly digital, where processes tend to become more objective and reach millions of people through social networks.\n",
    "\n",
    "The recruiting sector becomes hostage to a pile of candidates, where many of them are perfect for the position and others less so. According to RecruiterBox, professionals in the human resources area spend, on average, around 24 hours just to filter talent, costing the company around R$1000.00 if they pay an extra salary just for one position.\n",
    "\n",
    "Accompanying the rapid growth of digitization and the transformation of HR areas, tools emerge that are capable of streamlining processes via artificial intelligence, with the objective of analyzing candidate for candidate and guaranteeing the perfect match between the available position.\n",
    "\n",
    "With that in mind, I created a demo web app to apply knowledge of artificial intelligence in this area and make an intelligent selection of developers in selective processes using Natural Language Processing (NLP) techniques, reducing the selection time to seconds and the possibility of cost reductions of up to 50%."
   ]
  },
  {
   "cell_type": "code",
   "execution_count": 12,
   "metadata": {
    "colab": {
     "base_uri": "https://localhost:8080/"
    },
    "id": "ehkMYOTereRb",
    "outputId": "a91f211f-3a11-40c6-e760-a67d6ed54773",
    "scrolled": true
   },
   "outputs": [
    {
     "name": "stdout",
     "output_type": "stream",
     "text": [
      "Collecting unidecode\n",
      "\u001b[?25l  Downloading https://files.pythonhosted.org/packages/9e/25/723487ca2a52ebcee88a34d7d1f5a4b80b793f179ee0f62d5371938dfa01/Unidecode-1.2.0-py2.py3-none-any.whl (241kB)\n",
      "\r",
      "\u001b[K     |█▍                              | 10kB 15.5MB/s eta 0:00:01\r",
      "\u001b[K     |██▊                             | 20kB 7.3MB/s eta 0:00:01\r",
      "\u001b[K     |████                            | 30kB 6.7MB/s eta 0:00:01\r",
      "\u001b[K     |█████▍                          | 40kB 3.6MB/s eta 0:00:01\r",
      "\u001b[K     |██████▉                         | 51kB 3.7MB/s eta 0:00:01\r",
      "\u001b[K     |████████▏                       | 61kB 4.3MB/s eta 0:00:01\r",
      "\u001b[K     |█████████▌                      | 71kB 4.6MB/s eta 0:00:01\r",
      "\u001b[K     |██████████▉                     | 81kB 4.9MB/s eta 0:00:01\r",
      "\u001b[K     |████████████▏                   | 92kB 5.1MB/s eta 0:00:01\r",
      "\u001b[K     |█████████████▋                  | 102kB 4.2MB/s eta 0:00:01\r",
      "\u001b[K     |███████████████                 | 112kB 4.2MB/s eta 0:00:01\r",
      "\u001b[K     |████████████████▎               | 122kB 4.2MB/s eta 0:00:01\r",
      "\u001b[K     |█████████████████▋              | 133kB 4.2MB/s eta 0:00:01\r",
      "\u001b[K     |███████████████████             | 143kB 4.2MB/s eta 0:00:01\r",
      "\u001b[K     |████████████████████▍           | 153kB 4.2MB/s eta 0:00:01\r",
      "\u001b[K     |█████████████████████▊          | 163kB 4.2MB/s eta 0:00:01\r",
      "\u001b[K     |███████████████████████         | 174kB 4.2MB/s eta 0:00:01\r",
      "\u001b[K     |████████████████████████▍       | 184kB 4.2MB/s eta 0:00:01\r",
      "\u001b[K     |█████████████████████████▊      | 194kB 4.2MB/s eta 0:00:01\r",
      "\u001b[K     |███████████████████████████▏    | 204kB 4.2MB/s eta 0:00:01\r",
      "\u001b[K     |████████████████████████████▌   | 215kB 4.2MB/s eta 0:00:01\r",
      "\u001b[K     |█████████████████████████████▉  | 225kB 4.2MB/s eta 0:00:01\r",
      "\u001b[K     |███████████████████████████████▏| 235kB 4.2MB/s eta 0:00:01\r",
      "\u001b[K     |████████████████████████████████| 245kB 4.2MB/s \n",
      "\u001b[?25hInstalling collected packages: unidecode\n",
      "Successfully installed unidecode-1.2.0\n"
     ]
    }
   ],
   "source": [
    "!pip install unidecode"
   ]
  },
  {
   "cell_type": "markdown",
   "metadata": {},
   "source": [
    "## Imports"
   ]
  },
  {
   "cell_type": "code",
   "execution_count": 35,
   "metadata": {
    "colab": {
     "base_uri": "https://localhost:8080/"
    },
    "id": "xR1WBX1qD4Qm",
    "outputId": "a9389b65-6ae0-4c40-ac03-eba13c286505"
   },
   "outputs": [
    {
     "name": "stdout",
     "output_type": "stream",
     "text": [
      "[nltk_data] Downloading package rslp to /root/nltk_data...\n",
      "[nltk_data]   Package rslp is already up-to-date!\n",
      "[nltk_data] Downloading package stopwords to /root/nltk_data...\n",
      "[nltk_data]   Package stopwords is already up-to-date!\n"
     ]
    }
   ],
   "source": [
    "import random\n",
    "import numpy as np\n",
    "import pandas as pd\n",
    "import unidecode\n",
    "\n",
    "import nltk\n",
    "nltk.download('rslp')\n",
    "nltk.download('stopwords')\n",
    "\n",
    "from sklearn.feature_extraction.text import TfidfVectorizer\n",
    "from sklearn.metrics.pairwise import cosine_similarity"
   ]
  },
  {
   "cell_type": "code",
   "execution_count": 7,
   "metadata": {
    "id": "z_oGG_MqrQUF"
   },
   "outputs": [],
   "source": [
    "def limpa_dados(txt):\n",
    "    \"\"\"\n",
    "    This function remove accents, dots, comma and other special characters.\n",
    "    \"\"\"\n",
    "    txt = unidecode.unidecode(str(txt))\n",
    "    try:\n",
    "        txt = txt.replace(\",\", \" \")\n",
    "        txt = txt.replace(\".\", \" \")\n",
    "        txt = txt.replace('*', \" \")\n",
    "    except:\n",
    "        pass\n",
    "\n",
    "    txt = txt.lower()\n",
    "    \n",
    "    return txt"
   ]
  },
  {
   "cell_type": "markdown",
   "metadata": {},
   "source": [
    "# Applicants Section"
   ]
  },
  {
   "cell_type": "markdown",
   "metadata": {},
   "source": [
    "## Reading Applicants Data"
   ]
  },
  {
   "cell_type": "markdown",
   "metadata": {},
   "source": [
    "In this section I am reading the applicants dataset (synthetic) in order to use this in the NLP model."
   ]
  },
  {
   "cell_type": "code",
   "execution_count": 3,
   "metadata": {
    "id": "0INn_DNcgNq-"
   },
   "outputs": [],
   "source": [
    "# Read the csv file\n",
    "df = pd.read_csv('aplicantes_bckp.csv',encoding='ISO-8859-1')"
   ]
  },
  {
   "cell_type": "code",
   "execution_count": 4,
   "metadata": {
    "colab": {
     "base_uri": "https://localhost:8080/",
     "height": 479
    },
    "id": "lfzijlWd--nE",
    "outputId": "8a46daaf-4ac7-45bb-e788-f85d76d494f4",
    "scrolled": true
   },
   "outputs": [
    {
     "data": {
      "text/html": [
       "<div>\n",
       "<style scoped>\n",
       "    .dataframe tbody tr th:only-of-type {\n",
       "        vertical-align: middle;\n",
       "    }\n",
       "\n",
       "    .dataframe tbody tr th {\n",
       "        vertical-align: top;\n",
       "    }\n",
       "\n",
       "    .dataframe thead th {\n",
       "        text-align: right;\n",
       "    }\n",
       "</style>\n",
       "<table border=\"1\" class=\"dataframe\">\n",
       "  <thead>\n",
       "    <tr style=\"text-align: right;\">\n",
       "      <th></th>\n",
       "      <th>AplicanteID</th>\n",
       "      <th>Nome</th>\n",
       "      <th>Sobrenome</th>\n",
       "      <th>Email</th>\n",
       "      <th>Cidade</th>\n",
       "      <th>Estado</th>\n",
       "      <th>LadoAplicacao</th>\n",
       "      <th>TipoTrabalho</th>\n",
       "      <th>Tecnologias</th>\n",
       "      <th>MelhorTecnologia</th>\n",
       "      <th>Ingles</th>\n",
       "      <th>ExperienciaTrabalho</th>\n",
       "      <th>DescricaoExperiencia</th>\n",
       "    </tr>\n",
       "  </thead>\n",
       "  <tbody>\n",
       "    <tr>\n",
       "      <th>0</th>\n",
       "      <td>1</td>\n",
       "      <td>Joao</td>\n",
       "      <td>Sales</td>\n",
       "      <td>teste@demo.com.br</td>\n",
       "      <td>Garopaba</td>\n",
       "      <td>SC</td>\n",
       "      <td>backend</td>\n",
       "      <td>Físico Remoto</td>\n",
       "      <td>PowerBI Tableau R Python SQL Docker</td>\n",
       "      <td>Python</td>\n",
       "      <td>Avancado</td>\n",
       "      <td>Pleno</td>\n",
       "      <td>Estou procurando uma vaga de business intelige...</td>\n",
       "    </tr>\n",
       "    <tr>\n",
       "      <th>1</th>\n",
       "      <td>2</td>\n",
       "      <td>Pedro</td>\n",
       "      <td>Rodrigues</td>\n",
       "      <td>teste@demo.com.br</td>\n",
       "      <td>Sao Bernardo do Campo</td>\n",
       "      <td>SP</td>\n",
       "      <td>backend</td>\n",
       "      <td>Físico Remoto</td>\n",
       "      <td>DeepLearning Python Sckitlearn C C# JavaScript</td>\n",
       "      <td>DeepLearning</td>\n",
       "      <td>Avancado</td>\n",
       "      <td>Senior</td>\n",
       "      <td>Gostaria de uma vaga no time de Cientista de D...</td>\n",
       "    </tr>\n",
       "    <tr>\n",
       "      <th>2</th>\n",
       "      <td>3</td>\n",
       "      <td>Lucas</td>\n",
       "      <td>Pereira</td>\n",
       "      <td>teste@demo.com.br</td>\n",
       "      <td>Sao Paulo</td>\n",
       "      <td>SP</td>\n",
       "      <td>frontend</td>\n",
       "      <td>Remoto</td>\n",
       "      <td>ReactNative Bootstrap Java JavaScript jQuery</td>\n",
       "      <td>React</td>\n",
       "      <td>Basico</td>\n",
       "      <td>Pleno</td>\n",
       "      <td>Gostaria de uma vaga no campo de programacao f...</td>\n",
       "    </tr>\n",
       "    <tr>\n",
       "      <th>3</th>\n",
       "      <td>4</td>\n",
       "      <td>Marcelo</td>\n",
       "      <td>Brum</td>\n",
       "      <td>teste@demo.com.br</td>\n",
       "      <td>Canoas</td>\n",
       "      <td>RS</td>\n",
       "      <td>backend</td>\n",
       "      <td>Fisico</td>\n",
       "      <td>PowerBI R Python SQL Excel GoogleSheets</td>\n",
       "      <td>R</td>\n",
       "      <td>Avancado</td>\n",
       "      <td>Junior</td>\n",
       "      <td>Procuro vaga de junior de cientista de dados a...</td>\n",
       "    </tr>\n",
       "    <tr>\n",
       "      <th>4</th>\n",
       "      <td>5</td>\n",
       "      <td>Roger</td>\n",
       "      <td>Machado</td>\n",
       "      <td>teste@demo.com.br</td>\n",
       "      <td>Curitiba</td>\n",
       "      <td>PR</td>\n",
       "      <td>frontend</td>\n",
       "      <td>Fisico Remoto</td>\n",
       "      <td>Python Scitkitlearn Prophet</td>\n",
       "      <td>Prophet</td>\n",
       "      <td>Basico</td>\n",
       "      <td>Senior</td>\n",
       "      <td>Gostaria de uma vaga no time de Cientista de D...</td>\n",
       "    </tr>\n",
       "  </tbody>\n",
       "</table>\n",
       "</div>"
      ],
      "text/plain": [
       "   AplicanteID  ...                               DescricaoExperiencia\n",
       "0            1  ...  Estou procurando uma vaga de business intelige...\n",
       "1            2  ...  Gostaria de uma vaga no time de Cientista de D...\n",
       "2            3  ...  Gostaria de uma vaga no campo de programacao f...\n",
       "3            4  ...  Procuro vaga de junior de cientista de dados a...\n",
       "4            5  ...  Gostaria de uma vaga no time de Cientista de D...\n",
       "\n",
       "[5 rows x 13 columns]"
      ]
     },
     "execution_count": 4,
     "metadata": {
      "tags": []
     },
     "output_type": "execute_result"
    }
   ],
   "source": [
    "# Shows the 5th first elements\n",
    "df.head()"
   ]
  },
  {
   "cell_type": "markdown",
   "metadata": {},
   "source": [
    "## Preprocessing "
   ]
  },
  {
   "cell_type": "markdown",
   "metadata": {},
   "source": [
    "This section is the most important section of this notebook. Here, I will transform the structured data (generated by the formulary) in a non-structered data, which will be necessary to use NLP techniques. Then, I pick up all the columns and transform it in a text to clean it and apply stemming technique before the TF-IDFT transformation. "
   ]
  },
  {
   "cell_type": "code",
   "execution_count": 5,
   "metadata": {
    "id": "i12JZsK-iXPE"
   },
   "outputs": [],
   "source": [
    "# Transform my structured data in a text\n",
    "df['all_concat'] = df['Cidade'] + \" \" + df['Estado'] + \" \"+ df['LadoAplicacao']+ \" \" + df['TipoTrabalho'] + \" \" + \"conhece\" + \" \" + df['Tecnologias'] + \" \" + df['MelhorTecnologia'] + \" \" +df['Ingles']+ \" \" + df['ExperienciaTrabalho'] + \" \" + df['DescricaoExperiencia'] "
   ]
  },
  {
   "cell_type": "code",
   "execution_count": 6,
   "metadata": {
    "colab": {
     "base_uri": "https://localhost:8080/",
     "height": 52
    },
    "id": "3-yWT17fWzt3",
    "outputId": "9ab5a5b0-965e-4843-c9e0-3dbab7c7113b"
   },
   "outputs": [
    {
     "data": {
      "application/vnd.google.colaboratory.intrinsic+json": {
       "type": "string"
      },
      "text/plain": [
       "'Garopaba SC backend Físico Remoto conhece PowerBI Tableau R Python SQL Docker Python Avancado Pleno Estou procurando uma vaga de business inteligence, aplicado ao setor de delivery de comida'"
      ]
     },
     "execution_count": 6,
     "metadata": {
      "tags": []
     },
     "output_type": "execute_result"
    }
   ],
   "source": [
    "# Shows one example\n",
    "df['all_concat'][0]"
   ]
  },
  {
   "cell_type": "code",
   "execution_count": 9,
   "metadata": {
    "id": "5T-CinqViqf6"
   },
   "outputs": [],
   "source": [
    "# Create a new DF using just the text and the ApplicantID\n",
    "new_df = df[['AplicanteID', 'all_concat']]"
   ]
  },
  {
   "cell_type": "code",
   "execution_count": 14,
   "metadata": {
    "colab": {
     "base_uri": "https://localhost:8080/"
    },
    "id": "n2odgdN0joDD",
    "outputId": "051e80e8-6dfc-42c1-b602-30ebad3c6978"
   },
   "outputs": [
    {
     "name": "stderr",
     "output_type": "stream",
     "text": [
      "/usr/local/lib/python3.7/dist-packages/ipykernel_launcher.py:1: SettingWithCopyWarning: \n",
      "A value is trying to be set on a copy of a slice from a DataFrame.\n",
      "Try using .loc[row_indexer,col_indexer] = value instead\n",
      "\n",
      "See the caveats in the documentation: https://pandas.pydata.org/pandas-docs/stable/user_guide/indexing.html#returning-a-view-versus-a-copy\n",
      "  \"\"\"Entry point for launching an IPython kernel.\n"
     ]
    }
   ],
   "source": [
    "# Apply the clean_data function to the whole datset\n",
    "new_df['all_concat'] = new_df['all_concat'].apply(lambda x: limpa_dados(x))"
   ]
  },
  {
   "cell_type": "code",
   "execution_count": 15,
   "metadata": {
    "colab": {
     "base_uri": "https://localhost:8080/",
     "height": 52
    },
    "id": "u45Q_BAlXziP",
    "outputId": "2a2bf2e6-66b9-49b6-8d1f-9b7464c2b5ab",
    "scrolled": true
   },
   "outputs": [
    {
     "data": {
      "application/vnd.google.colaboratory.intrinsic+json": {
       "type": "string"
      },
      "text/plain": [
       "'garopaba sc backend fisico remoto conhece powerbi tableau r python sql docker python avancado pleno estou procurando uma vaga de business inteligence  aplicado ao setor de delivery de comida'"
      ]
     },
     "execution_count": 15,
     "metadata": {
      "tags": []
     },
     "output_type": "execute_result"
    }
   ],
   "source": [
    "# Shows one example\n",
    "new_df['all_concat'][0]"
   ]
  },
  {
   "cell_type": "markdown",
   "metadata": {},
   "source": [
    "**Stemming:**\n",
    "\n",
    " Stemming is the process of reducing inflected (or sometimes derived) words to their word stem, base or root form—generally a written word form.\n",
    " \n",
    " Example: Children -> Child"
   ]
  },
  {
   "cell_type": "code",
   "execution_count": 18,
   "metadata": {
    "colab": {
     "base_uri": "https://localhost:8080/"
    },
    "id": "YYUFBQ8ckAsK",
    "outputId": "7303a037-3494-4545-862a-a9192889d9ed"
   },
   "outputs": [
    {
     "data": {
      "text/plain": [
       "0    garopaba sc backend fisico remoto conhece powe...\n",
       "1    sao bernardo campo sp backend fisico remoto co...\n",
       "2    sao paulo sp frontend remoto conhece reactnati...\n",
       "3    canoas rs backend fisico conhece powerbi r pyt...\n",
       "4    curitiba pr frontend fisico remoto conhece pyt...\n",
       "Name: all_concat, dtype: object"
      ]
     },
     "execution_count": 18,
     "metadata": {
      "tags": []
     },
     "output_type": "execute_result"
    }
   ],
   "source": [
    "\n",
    "stemmer = nltk.stem.RSLPStemmer()\n",
    "stop = nltk.corpus.stopwords.words('portuguese')\n",
    "\n",
    "# Remove stop words\n",
    "only_text = new_df['all_concat'].apply(lambda x: ' '.join([word for word in x.split() if word not in (stop)]))\n",
    "only_text.head()"
   ]
  },
  {
   "cell_type": "code",
   "execution_count": 19,
   "metadata": {
    "id": "sxsUhVSfmL9Z"
   },
   "outputs": [],
   "source": [
    "# Word tokenization\n",
    "only_text = only_text.apply(lambda x : x.split(\" \"))"
   ]
  },
  {
   "cell_type": "code",
   "execution_count": 20,
   "metadata": {
    "colab": {
     "base_uri": "https://localhost:8080/"
    },
    "id": "BP1Fw7cPZnBn",
    "outputId": "4d02cceb-1a70-4f87-86f5-3d7809509683"
   },
   "outputs": [
    {
     "data": {
      "text/plain": [
       "0     [garopaba, sc, backend, fisico, remoto, conhec...\n",
       "1     [sao, bernardo, campo, sp, backend, fisico, re...\n",
       "2     [sao, paulo, sp, frontend, remoto, conhece, re...\n",
       "3     [canoas, rs, backend, fisico, conhece, powerbi...\n",
       "4     [curitiba, pr, frontend, fisico, remoto, conhe...\n",
       "5     [cabo, frio, rj, frontend, fisico, conhece, re...\n",
       "6     [buzios, rj, frontend, fisico, remoto, conhece...\n",
       "7     [rio, janeiro, rj, backend, remoto, conhece, s...\n",
       "8     [sao, bernardo, campo, sp, backend, fisico, co...\n",
       "9     [sao, bernardo, campo, sp, frontend, remoto, c...\n",
       "10    [aracaju, backend, fisico, conhece, python, py...\n",
       "11    [aracaju, backend, fisico, conhece, php, ruby,...\n",
       "12    [sao, paulo, sp, frontend, fisico, conhece, ht...\n",
       "13    [florianopolis, sc, backend, fisico, conhece, ...\n",
       "14    [florianopolis, sc, gestao, remoto, conhece, r...\n",
       "15    [porto, alegre, rs, backend, fisico, conhece, ...\n",
       "16    [sao, paulo, sp, backend, fisico, conhece, dee...\n",
       "17    [sao, bernardo, campo, sp, backend, fisico, re...\n",
       "18    [porto, alegre, rs, backend, fisico, remoto, c...\n",
       "19    [rio, janeiro, rj, backend, remoto, conhece, p...\n",
       "20    [caxias, sul, rs, frontend, fisico, conhece, h...\n",
       "21    [santa, maria, rs, backend, fisico, conhece, p...\n",
       "22    [rio, janeiro, rj, gestao, fisico, conhece, ht...\n",
       "23    [florianopolis, sc, backend, remoto, conhece, ...\n",
       "24    [rio, janeiro, rj, backend, remoto, conhece, p...\n",
       "25    [canoas, rs, backend, remoto, conhece, deeplea...\n",
       "26    [novo, hamburgo, rs, fullstack, remoto, conhec...\n",
       "27    [rio, janeiro, rj, fullstack, fisico, conhece,...\n",
       "28    [santiago, rs, fullstack, fisico, remoto, conh...\n",
       "29    [osasco, sp, frontend, remoto, conhece, react,...\n",
       "Name: all_concat, dtype: object"
      ]
     },
     "execution_count": 20,
     "metadata": {
      "tags": []
     },
     "output_type": "execute_result"
    }
   ],
   "source": [
    "only_text"
   ]
  },
  {
   "cell_type": "code",
   "execution_count": 21,
   "metadata": {
    "colab": {
     "base_uri": "https://localhost:8080/"
    },
    "id": "jYmj8sdKmilH",
    "outputId": "2ee76405-6182-4a12-c292-4ca7690da198"
   },
   "outputs": [
    {
     "name": "stdout",
     "output_type": "stream",
     "text": [
      "0    [garopab, sc, backend, fisic, remot, conhec, p...\n",
      "1    [sao, bernard, camp, sp, backend, fisic, remot...\n",
      "2    [sao, paul, sp, frontend, remot, conhec, react...\n",
      "3    [cano, rs, backend, fisic, conhec, powerb, r, ...\n",
      "4    [curitib, pr, frontend, fisic, remot, conhec, ...\n",
      "Name: all_concat, dtype: object\n"
     ]
    }
   ],
   "source": [
    "# Apply stemming to the dataset\n",
    "only_text = only_text.apply(lambda x : [stemmer.stem(y) for y in x])\n",
    "print(only_text.head())"
   ]
  },
  {
   "cell_type": "code",
   "execution_count": 22,
   "metadata": {
    "colab": {
     "base_uri": "https://localhost:8080/"
    },
    "id": "6KzpacQ6mrKx",
    "outputId": "154a30ed-d434-4297-cc2c-6b250f013d55"
   },
   "outputs": [
    {
     "name": "stdout",
     "output_type": "stream",
     "text": [
      "0    garopab sc backend fisic remot conhec powerb t...\n",
      "1    sao bernard camp sp backend fisic remot conhec...\n",
      "2    sao paul sp frontend remot conhec reactnativ b...\n",
      "3    cano rs backend fisic conhec powerb r python s...\n",
      "4    curitib pr frontend fisic remot conhec python ...\n",
      "Name: all_concat, dtype: object\n"
     ]
    }
   ],
   "source": [
    "# Join the words to re-create the phrases after stemming\n",
    "only_text = only_text.apply(lambda x : \" \".join(x))\n",
    "print(only_text.head())"
   ]
  },
  {
   "cell_type": "code",
   "execution_count": 23,
   "metadata": {
    "id": "ZLE3Gv6onFjU"
   },
   "outputs": [],
   "source": [
    "final_df = pd.DataFrame()"
   ]
  },
  {
   "cell_type": "code",
   "execution_count": 24,
   "metadata": {
    "id": "-L5JHY57m9b5"
   },
   "outputs": [],
   "source": [
    "final_df['text'] = only_text\n",
    "final_df['AplicanteID'] = new_df['AplicanteID']"
   ]
  },
  {
   "cell_type": "code",
   "execution_count": 25,
   "metadata": {
    "colab": {
     "base_uri": "https://localhost:8080/",
     "height": 204
    },
    "id": "1BFp89eVnIK5",
    "outputId": "c6d76d06-6198-4270-922a-c06c5ac5466f",
    "scrolled": true
   },
   "outputs": [
    {
     "data": {
      "text/html": [
       "<div>\n",
       "<style scoped>\n",
       "    .dataframe tbody tr th:only-of-type {\n",
       "        vertical-align: middle;\n",
       "    }\n",
       "\n",
       "    .dataframe tbody tr th {\n",
       "        vertical-align: top;\n",
       "    }\n",
       "\n",
       "    .dataframe thead th {\n",
       "        text-align: right;\n",
       "    }\n",
       "</style>\n",
       "<table border=\"1\" class=\"dataframe\">\n",
       "  <thead>\n",
       "    <tr style=\"text-align: right;\">\n",
       "      <th></th>\n",
       "      <th>text</th>\n",
       "      <th>AplicanteID</th>\n",
       "    </tr>\n",
       "  </thead>\n",
       "  <tbody>\n",
       "    <tr>\n",
       "      <th>0</th>\n",
       "      <td>garopab sc backend fisic remot conhec powerb t...</td>\n",
       "      <td>1</td>\n",
       "    </tr>\n",
       "    <tr>\n",
       "      <th>1</th>\n",
       "      <td>sao bernard camp sp backend fisic remot conhec...</td>\n",
       "      <td>2</td>\n",
       "    </tr>\n",
       "    <tr>\n",
       "      <th>2</th>\n",
       "      <td>sao paul sp frontend remot conhec reactnativ b...</td>\n",
       "      <td>3</td>\n",
       "    </tr>\n",
       "    <tr>\n",
       "      <th>3</th>\n",
       "      <td>cano rs backend fisic conhec powerb r python s...</td>\n",
       "      <td>4</td>\n",
       "    </tr>\n",
       "    <tr>\n",
       "      <th>4</th>\n",
       "      <td>curitib pr frontend fisic remot conhec python ...</td>\n",
       "      <td>5</td>\n",
       "    </tr>\n",
       "  </tbody>\n",
       "</table>\n",
       "</div>"
      ],
      "text/plain": [
       "                                                text  AplicanteID\n",
       "0  garopab sc backend fisic remot conhec powerb t...            1\n",
       "1  sao bernard camp sp backend fisic remot conhec...            2\n",
       "2  sao paul sp frontend remot conhec reactnativ b...            3\n",
       "3  cano rs backend fisic conhec powerb r python s...            4\n",
       "4  curitib pr frontend fisic remot conhec python ...            5"
      ]
     },
     "execution_count": 25,
     "metadata": {
      "tags": []
     },
     "output_type": "execute_result"
    }
   ],
   "source": [
    "final_df.head()"
   ]
  },
  {
   "cell_type": "markdown",
   "metadata": {},
   "source": [
    "**TF-IDF:**\n",
    "\n",
    "TF-IDF stands for “Term Frequency — Inverse Document Frequency”. This is a technique to quantify a word in documents, we generally compute a weight to each word which signifies the importance of the word in the document and corpus. When we calculate IDF, it will be very low for the most occurring words such as stop words (because stop words such as “is” is present in almost all of the documents, and N/df will give a very low value to that word). This finally gives what we want, a relative weightage."
   ]
  },
  {
   "cell_type": "code",
   "execution_count": 27,
   "metadata": {
    "colab": {
     "base_uri": "https://localhost:8080/"
    },
    "id": "bujuBVDxnZh6",
    "outputId": "c8503811-fcaa-4a63-f1e5-b5393defbc46"
   },
   "outputs": [
    {
     "data": {
      "text/plain": [
       "<30x131 sparse matrix of type '<class 'numpy.float64'>'\n",
       "\twith 553 stored elements in Compressed Sparse Row format>"
      ]
     },
     "execution_count": 27,
     "metadata": {
      "tags": []
     },
     "output_type": "execute_result"
    }
   ],
   "source": [
    "# Starts the vectorizer\n",
    "tfidf_vectorizer = TfidfVectorizer()\n",
    "\n",
    "# Apply to the data\n",
    "tfidf_app = tfidf_vectorizer.fit_transform((final_df['text'])) #fitting and transforming the vector\n",
    "tfidf_app"
   ]
  },
  {
   "cell_type": "markdown",
   "metadata": {},
   "source": [
    "# Enterprise Section"
   ]
  },
  {
   "cell_type": "markdown",
   "metadata": {},
   "source": [
    "All the techniques aforementioned are used in the enterprise section."
   ]
  },
  {
   "cell_type": "markdown",
   "metadata": {
    "id": "bWYNY8jGp2S6"
   },
   "source": [
    "## Reading Enterprise Data"
   ]
  },
  {
   "cell_type": "code",
   "execution_count": 28,
   "metadata": {
    "id": "I3v4dDoZp19L"
   },
   "outputs": [],
   "source": [
    "empresas_df = pd.read_csv('empresas_bckp.csv', encoding='ISO-8859-1')"
   ]
  },
  {
   "cell_type": "code",
   "execution_count": 29,
   "metadata": {
    "colab": {
     "base_uri": "https://localhost:8080/",
     "height": 250
    },
    "id": "EkyPnyrCCtAy",
    "outputId": "91a3056c-5a1f-4dbf-a3b6-8a464f90c51b",
    "scrolled": true
   },
   "outputs": [
    {
     "data": {
      "text/html": [
       "<div>\n",
       "<style scoped>\n",
       "    .dataframe tbody tr th:only-of-type {\n",
       "        vertical-align: middle;\n",
       "    }\n",
       "\n",
       "    .dataframe tbody tr th {\n",
       "        vertical-align: top;\n",
       "    }\n",
       "\n",
       "    .dataframe thead th {\n",
       "        text-align: right;\n",
       "    }\n",
       "</style>\n",
       "<table border=\"1\" class=\"dataframe\">\n",
       "  <thead>\n",
       "    <tr style=\"text-align: right;\">\n",
       "      <th></th>\n",
       "      <th>VagaID</th>\n",
       "      <th>NomeEmpresa</th>\n",
       "      <th>Setor</th>\n",
       "      <th>Cidade</th>\n",
       "      <th>Estado</th>\n",
       "      <th>NomeVaga</th>\n",
       "      <th>LadoAplicacao</th>\n",
       "      <th>TipoTrabalho</th>\n",
       "      <th>TecnologiasNecessarias</th>\n",
       "      <th>Ingles</th>\n",
       "      <th>InglesObrigatorio</th>\n",
       "      <th>Experiencia</th>\n",
       "      <th>DescricaoVaga</th>\n",
       "    </tr>\n",
       "  </thead>\n",
       "  <tbody>\n",
       "    <tr>\n",
       "      <th>0</th>\n",
       "      <td>1</td>\n",
       "      <td>Globo</td>\n",
       "      <td>Tecnologia da informacao e servicos; Telecomun...</td>\n",
       "      <td>Rio de Janeiro</td>\n",
       "      <td>RJ</td>\n",
       "      <td>Cientista de Dados</td>\n",
       "      <td>backend</td>\n",
       "      <td>Fisico</td>\n",
       "      <td>PowerBI GoogleAnalytics GoogleDataStudio SQL R...</td>\n",
       "      <td>Intermediario</td>\n",
       "      <td>Nao</td>\n",
       "      <td>Pleno</td>\n",
       "      <td>Prover ao time Globoplay dados e informacao qu...</td>\n",
       "    </tr>\n",
       "    <tr>\n",
       "      <th>1</th>\n",
       "      <td>2</td>\n",
       "      <td>Infosys</td>\n",
       "      <td>Tecnologia da informacao e servicos</td>\n",
       "      <td>Sao Paulo</td>\n",
       "      <td>SP</td>\n",
       "      <td>Desenvolver React</td>\n",
       "      <td>frontend</td>\n",
       "      <td>Remoto</td>\n",
       "      <td>AWS React JavaScript ReactJS</td>\n",
       "      <td>Avancado</td>\n",
       "      <td>Sim</td>\n",
       "      <td>Pleno Senior</td>\n",
       "      <td>A Infosys está procurando um React Developer p...</td>\n",
       "    </tr>\n",
       "  </tbody>\n",
       "</table>\n",
       "</div>"
      ],
      "text/plain": [
       "   VagaID  ...                                      DescricaoVaga\n",
       "0       1  ...  Prover ao time Globoplay dados e informacao qu...\n",
       "1       2  ...  A Infosys está procurando um React Developer p...\n",
       "\n",
       "[2 rows x 13 columns]"
      ]
     },
     "execution_count": 29,
     "metadata": {
      "tags": []
     },
     "output_type": "execute_result"
    }
   ],
   "source": [
    "empresas_df"
   ]
  },
  {
   "cell_type": "markdown",
   "metadata": {},
   "source": [
    "## Preprocessing"
   ]
  },
  {
   "cell_type": "code",
   "execution_count": 30,
   "metadata": {
    "id": "hp2tsijCq106"
   },
   "outputs": [],
   "source": [
    "empresas_df['all_concat'] = empresas_df['Cidade'] + \" \" + empresas_df['Estado'] + \" \"  + empresas_df['Setor'] + \" \" + empresas_df['NomeVaga'] + \" \"  + empresas_df['LadoAplicacao'] + \" \" +  empresas_df['TipoTrabalho'] + \" \" + empresas_df['TecnologiasNecessarias'] + \" \" + empresas_df['Ingles'] + \" \" +empresas_df['Experiencia'] + \" \" + empresas_df['TipoTrabalho']"
   ]
  },
  {
   "cell_type": "code",
   "execution_count": 31,
   "metadata": {
    "colab": {
     "base_uri": "https://localhost:8080/",
     "height": 52
    },
    "id": "tCwniunnqr96",
    "outputId": "58b36789-449d-467d-b560-b012092fa01d"
   },
   "outputs": [
    {
     "data": {
      "application/vnd.google.colaboratory.intrinsic+json": {
       "type": "string"
      },
      "text/plain": [
       "'Rio de Janeiro RJ Tecnologia da informacao e servicos; Telecomunicacoes Cientista de Dados backend Fisico PowerBI GoogleAnalytics GoogleDataStudio SQL R Python Java Machine Learning  Intermediario Pleno Fisico'"
      ]
     },
     "execution_count": 31,
     "metadata": {
      "tags": []
     },
     "output_type": "execute_result"
    }
   ],
   "source": [
    "empresas_df['all_concat'][0]"
   ]
  },
  {
   "cell_type": "code",
   "execution_count": 32,
   "metadata": {
    "id": "HLptVTRCcQTO"
   },
   "outputs": [],
   "source": [
    "empresas_df['all_concat'] = empresas_df['all_concat'].apply(lambda x: limpa_dados(x))"
   ]
  },
  {
   "cell_type": "code",
   "execution_count": 33,
   "metadata": {
    "colab": {
     "base_uri": "https://localhost:8080/",
     "height": 185
    },
    "id": "8ehhHCFaDVV8",
    "outputId": "4e39dd7f-9b9a-4aef-b777-86a6efbd687b"
   },
   "outputs": [
    {
     "data": {
      "text/html": [
       "<div>\n",
       "<style scoped>\n",
       "    .dataframe tbody tr th:only-of-type {\n",
       "        vertical-align: middle;\n",
       "    }\n",
       "\n",
       "    .dataframe tbody tr th {\n",
       "        vertical-align: top;\n",
       "    }\n",
       "\n",
       "    .dataframe thead th {\n",
       "        text-align: right;\n",
       "    }\n",
       "</style>\n",
       "<table border=\"1\" class=\"dataframe\">\n",
       "  <thead>\n",
       "    <tr style=\"text-align: right;\">\n",
       "      <th></th>\n",
       "      <th>VagaID</th>\n",
       "      <th>NomeEmpresa</th>\n",
       "      <th>Setor</th>\n",
       "      <th>Cidade</th>\n",
       "      <th>Estado</th>\n",
       "      <th>NomeVaga</th>\n",
       "      <th>LadoAplicacao</th>\n",
       "      <th>TipoTrabalho</th>\n",
       "      <th>TecnologiasNecessarias</th>\n",
       "      <th>Ingles</th>\n",
       "      <th>InglesObrigatorio</th>\n",
       "      <th>Experiencia</th>\n",
       "      <th>DescricaoVaga</th>\n",
       "      <th>all_concat</th>\n",
       "    </tr>\n",
       "  </thead>\n",
       "  <tbody>\n",
       "    <tr>\n",
       "      <th>1</th>\n",
       "      <td>2</td>\n",
       "      <td>Infosys</td>\n",
       "      <td>Tecnologia da informacao e servicos</td>\n",
       "      <td>Sao Paulo</td>\n",
       "      <td>SP</td>\n",
       "      <td>Desenvolver React</td>\n",
       "      <td>frontend</td>\n",
       "      <td>Remoto</td>\n",
       "      <td>AWS React JavaScript ReactJS</td>\n",
       "      <td>Avancado</td>\n",
       "      <td>Sim</td>\n",
       "      <td>Pleno Senior</td>\n",
       "      <td>A Infosys está procurando um React Developer p...</td>\n",
       "      <td>sao paulo sp tecnologia da informacao e servic...</td>\n",
       "    </tr>\n",
       "  </tbody>\n",
       "</table>\n",
       "</div>"
      ],
      "text/plain": [
       "   VagaID  ...                                         all_concat\n",
       "1       2  ...  sao paulo sp tecnologia da informacao e servic...\n",
       "\n",
       "[1 rows x 14 columns]"
      ]
     },
     "execution_count": 33,
     "metadata": {
      "tags": []
     },
     "output_type": "execute_result"
    }
   ],
   "source": [
    "VagaID = 2\n",
    "index = np.where(empresas_df['VagaID'] == VagaID)[0][0]\n",
    "vaga = empresas_df.iloc[[index]]\n",
    "vaga"
   ]
  },
  {
   "cell_type": "code",
   "execution_count": 34,
   "metadata": {
    "colab": {
     "base_uri": "https://localhost:8080/"
    },
    "id": "M56b0GjYsH_z",
    "outputId": "104b3833-d0a0-4035-c9ed-c68e2db49757"
   },
   "outputs": [
    {
     "data": {
      "text/plain": [
       "<1x131 sparse matrix of type '<class 'numpy.float64'>'\n",
       "\twith 5 stored elements in Compressed Sparse Row format>"
      ]
     },
     "execution_count": 34,
     "metadata": {
      "tags": []
     },
     "output_type": "execute_result"
    }
   ],
   "source": [
    "#fitting and transforming the vector\n",
    "vaga_tfidf = tfidf_vectorizer.transform(vaga['all_concat']) \n",
    "vaga_tfidf"
   ]
  },
  {
   "cell_type": "markdown",
   "metadata": {},
   "source": [
    "# Cosine Similarity "
   ]
  },
  {
   "cell_type": "markdown",
   "metadata": {},
   "source": [
    "This section will use the weighted array of applicants and compare it with the weighted array of enterprises, in order to find the best matches. \n",
    "\n",
    "**Cosine Similarity:** \n",
    "\n",
    "Cosine similarity is a metric used to measure how similar the documents are irrespective of their size. Mathematically, it measures the cosine of the angle between two vectors projected in a multi-dimensional space. The cosine similarity is advantageous because even if the two similar documents are far apart by the Euclidean distance (due to the size of the document), chances are they may still be oriented closer together. The smaller the angle, higher the cosine similarity."
   ]
  },
  {
   "cell_type": "code",
   "execution_count": 36,
   "metadata": {
    "id": "uO1uY0Vqsn17"
   },
   "outputs": [],
   "source": [
    "# Calculate the similarity of two arrays\n",
    "output = [cosine_similarity(vaga_tfidf, candidate) for candidate in tfidf_app]"
   ]
  },
  {
   "cell_type": "code",
   "execution_count": 37,
   "metadata": {
    "colab": {
     "base_uri": "https://localhost:8080/"
    },
    "id": "BJXjXduZs4Rz",
    "outputId": "ba6c2dd0-46cf-4426-867c-1b2a03438daa"
   },
   "outputs": [
    {
     "data": {
      "text/plain": [
       "[array([[0.]]),\n",
       " array([[0.14495325]]),\n",
       " array([[0.36666596]]),\n",
       " array([[0.]]),\n",
       " array([[0.05164615]]),\n",
       " array([[0.26835093]]),\n",
       " array([[0.05591006]]),\n",
       " array([[0.]]),\n",
       " array([[0.14866374]]),\n",
       " array([[0.19802732]]),\n",
       " array([[0.]]),\n",
       " array([[0.05015067]]),\n",
       " array([[0.27667929]]),\n",
       " array([[0.]]),\n",
       " array([[0.15470045]]),\n",
       " array([[0.]]),\n",
       " array([[0.18608373]]),\n",
       " array([[0.18189931]]),\n",
       " array([[0.0446273]]),\n",
       " array([[0.04808267]]),\n",
       " array([[0.10468186]]),\n",
       " array([[0.]]),\n",
       " array([[0.]]),\n",
       " array([[0.0632705]]),\n",
       " array([[0.]]),\n",
       " array([[0.]]),\n",
       " array([[0.23959655]]),\n",
       " array([[0.]]),\n",
       " array([[0.03694011]]),\n",
       " array([[0.43994609]])]"
      ]
     },
     "execution_count": 37,
     "metadata": {
      "tags": []
     },
     "output_type": "execute_result"
    }
   ],
   "source": [
    "output"
   ]
  },
  {
   "cell_type": "code",
   "execution_count": 38,
   "metadata": {
    "id": "BChn1uK9tTJ3"
   },
   "outputs": [],
   "source": [
    "# Append the distance array\n",
    "distances = []\n",
    "for i in range(0,len(final_df)):\n",
    "  distances.append(output[i][0][0])"
   ]
  },
  {
   "cell_type": "code",
   "execution_count": 39,
   "metadata": {
    "id": "wePRJj-at1VE"
   },
   "outputs": [],
   "source": [
    "# Put it to the dataframe\n",
    "final_df['distances'] = distances"
   ]
  },
  {
   "cell_type": "markdown",
   "metadata": {},
   "source": [
    "# Top 5 Matches"
   ]
  },
  {
   "cell_type": "markdown",
   "metadata": {},
   "source": [
    "By sorting the lowest distances, we can find the best applicants for the job description."
   ]
  },
  {
   "cell_type": "code",
   "execution_count": 40,
   "metadata": {
    "id": "B2oNsbm2uIJa"
   },
   "outputs": [],
   "source": [
    "# Sort the dataframe by distance\n",
    "top_5 = final_df.sort_values('distances', ascending = False)['AplicanteID'][:5].values"
   ]
  },
  {
   "cell_type": "code",
   "execution_count": 41,
   "metadata": {
    "id": "kO8nAbxPuR7b"
   },
   "outputs": [],
   "source": [
    "# Best recommendations\n",
    "recomendacao_aplicantes = pd.DataFrame(columns = ['Top 5','VagaID', 'AplicanteID Recomendado'])\n",
    "\n",
    "for i in range(0,len(top_5)):\n",
    "  recomendacao_aplicantes.at[i, 'Top 5'] =  i+1\n",
    "  recomendacao_aplicantes.at[i, 'VagaID'] = VagaID \n",
    "  recomendacao_aplicantes.at[i, 'AplicanteID Recomendado'] = top_5[i]"
   ]
  },
  {
   "cell_type": "code",
   "execution_count": 42,
   "metadata": {
    "colab": {
     "base_uri": "https://localhost:8080/",
     "height": 204
    },
    "id": "fZMkC5wJd7uv",
    "outputId": "0bd4f484-5dea-472a-e206-939f0ddf7708",
    "scrolled": true
   },
   "outputs": [
    {
     "data": {
      "text/html": [
       "<div>\n",
       "<style scoped>\n",
       "    .dataframe tbody tr th:only-of-type {\n",
       "        vertical-align: middle;\n",
       "    }\n",
       "\n",
       "    .dataframe tbody tr th {\n",
       "        vertical-align: top;\n",
       "    }\n",
       "\n",
       "    .dataframe thead th {\n",
       "        text-align: right;\n",
       "    }\n",
       "</style>\n",
       "<table border=\"1\" class=\"dataframe\">\n",
       "  <thead>\n",
       "    <tr style=\"text-align: right;\">\n",
       "      <th></th>\n",
       "      <th>Top 5</th>\n",
       "      <th>VagaID</th>\n",
       "      <th>AplicanteID Recomendado</th>\n",
       "    </tr>\n",
       "  </thead>\n",
       "  <tbody>\n",
       "    <tr>\n",
       "      <th>0</th>\n",
       "      <td>1</td>\n",
       "      <td>2</td>\n",
       "      <td>30</td>\n",
       "    </tr>\n",
       "    <tr>\n",
       "      <th>1</th>\n",
       "      <td>2</td>\n",
       "      <td>2</td>\n",
       "      <td>3</td>\n",
       "    </tr>\n",
       "    <tr>\n",
       "      <th>2</th>\n",
       "      <td>3</td>\n",
       "      <td>2</td>\n",
       "      <td>13</td>\n",
       "    </tr>\n",
       "    <tr>\n",
       "      <th>3</th>\n",
       "      <td>4</td>\n",
       "      <td>2</td>\n",
       "      <td>6</td>\n",
       "    </tr>\n",
       "    <tr>\n",
       "      <th>4</th>\n",
       "      <td>5</td>\n",
       "      <td>2</td>\n",
       "      <td>27</td>\n",
       "    </tr>\n",
       "  </tbody>\n",
       "</table>\n",
       "</div>"
      ],
      "text/plain": [
       "  Top 5 VagaID AplicanteID Recomendado\n",
       "0     1      2                      30\n",
       "1     2      2                       3\n",
       "2     3      2                      13\n",
       "3     4      2                       6\n",
       "4     5      2                      27"
      ]
     },
     "execution_count": 42,
     "metadata": {
      "tags": []
     },
     "output_type": "execute_result"
    }
   ],
   "source": [
    "recomendacao_aplicantes"
   ]
  },
  {
   "cell_type": "code",
   "execution_count": 44,
   "metadata": {
    "colab": {
     "base_uri": "https://localhost:8080/",
     "height": 185
    },
    "id": "3l6wfKI4tHN5",
    "outputId": "c472772c-456c-4fd2-ff42-775ed5867811"
   },
   "outputs": [
    {
     "data": {
      "text/html": [
       "<div>\n",
       "<style scoped>\n",
       "    .dataframe tbody tr th:only-of-type {\n",
       "        vertical-align: middle;\n",
       "    }\n",
       "\n",
       "    .dataframe tbody tr th {\n",
       "        vertical-align: top;\n",
       "    }\n",
       "\n",
       "    .dataframe thead th {\n",
       "        text-align: right;\n",
       "    }\n",
       "</style>\n",
       "<table border=\"1\" class=\"dataframe\">\n",
       "  <thead>\n",
       "    <tr style=\"text-align: right;\">\n",
       "      <th></th>\n",
       "      <th>VagaID</th>\n",
       "      <th>NomeEmpresa</th>\n",
       "      <th>Setor</th>\n",
       "      <th>Cidade</th>\n",
       "      <th>Estado</th>\n",
       "      <th>NomeVaga</th>\n",
       "      <th>LadoAplicacao</th>\n",
       "      <th>TipoTrabalho</th>\n",
       "      <th>TecnologiasNecessarias</th>\n",
       "      <th>Ingles</th>\n",
       "      <th>InglesObrigatorio</th>\n",
       "      <th>Experiencia</th>\n",
       "      <th>DescricaoVaga</th>\n",
       "      <th>all_concat</th>\n",
       "    </tr>\n",
       "  </thead>\n",
       "  <tbody>\n",
       "    <tr>\n",
       "      <th>1</th>\n",
       "      <td>2</td>\n",
       "      <td>Infosys</td>\n",
       "      <td>Tecnologia da informacao e servicos</td>\n",
       "      <td>Sao Paulo</td>\n",
       "      <td>SP</td>\n",
       "      <td>Desenvolver React</td>\n",
       "      <td>frontend</td>\n",
       "      <td>Remoto</td>\n",
       "      <td>AWS React JavaScript ReactJS</td>\n",
       "      <td>Avancado</td>\n",
       "      <td>Sim</td>\n",
       "      <td>Pleno Senior</td>\n",
       "      <td>A Infosys está procurando um React Developer p...</td>\n",
       "      <td>sao paulo sp tecnologia da informacao e servic...</td>\n",
       "    </tr>\n",
       "  </tbody>\n",
       "</table>\n",
       "</div>"
      ],
      "text/plain": [
       "   VagaID  ...                                         all_concat\n",
       "1       2  ...  sao paulo sp tecnologia da informacao e servic...\n",
       "\n",
       "[1 rows x 14 columns]"
      ]
     },
     "execution_count": 44,
     "metadata": {
      "tags": []
     },
     "output_type": "execute_result"
    }
   ],
   "source": [
    "# Shows the job\n",
    "vaga"
   ]
  },
  {
   "cell_type": "code",
   "execution_count": 43,
   "metadata": {
    "colab": {
     "base_uri": "https://localhost:8080/",
     "height": 646
    },
    "id": "0u0kpn3QX3hJ",
    "outputId": "f716c8db-f64f-4dd3-8d27-8124cbb2fa96",
    "scrolled": true
   },
   "outputs": [
    {
     "data": {
      "text/html": [
       "<div>\n",
       "<style scoped>\n",
       "    .dataframe tbody tr th:only-of-type {\n",
       "        vertical-align: middle;\n",
       "    }\n",
       "\n",
       "    .dataframe tbody tr th {\n",
       "        vertical-align: top;\n",
       "    }\n",
       "\n",
       "    .dataframe thead th {\n",
       "        text-align: right;\n",
       "    }\n",
       "</style>\n",
       "<table border=\"1\" class=\"dataframe\">\n",
       "  <thead>\n",
       "    <tr style=\"text-align: right;\">\n",
       "      <th></th>\n",
       "      <th>Nome</th>\n",
       "      <th>Sobrenome</th>\n",
       "      <th>Email</th>\n",
       "      <th>Cidade</th>\n",
       "      <th>Estado</th>\n",
       "      <th>LadoAplicacao</th>\n",
       "      <th>TipoTrabalho</th>\n",
       "      <th>Tecnologias</th>\n",
       "      <th>MelhorTecnologia</th>\n",
       "      <th>Ingles</th>\n",
       "      <th>ExperienciaTrabalho</th>\n",
       "      <th>DescricaoExperiencia</th>\n",
       "      <th>all_concat</th>\n",
       "    </tr>\n",
       "    <tr>\n",
       "      <th>AplicanteID</th>\n",
       "      <th></th>\n",
       "      <th></th>\n",
       "      <th></th>\n",
       "      <th></th>\n",
       "      <th></th>\n",
       "      <th></th>\n",
       "      <th></th>\n",
       "      <th></th>\n",
       "      <th></th>\n",
       "      <th></th>\n",
       "      <th></th>\n",
       "      <th></th>\n",
       "      <th></th>\n",
       "    </tr>\n",
       "  </thead>\n",
       "  <tbody>\n",
       "    <tr>\n",
       "      <th>30</th>\n",
       "      <td>André</td>\n",
       "      <td>Duarte</td>\n",
       "      <td>teste@demo.com.br</td>\n",
       "      <td>Osasco</td>\n",
       "      <td>SP</td>\n",
       "      <td>frontend</td>\n",
       "      <td>Remoto</td>\n",
       "      <td>React ReactJS AWS SQL</td>\n",
       "      <td>ReactJS</td>\n",
       "      <td>Avancado</td>\n",
       "      <td>Senior</td>\n",
       "      <td>Procuro uma vaga de programador front-end para...</td>\n",
       "      <td>Osasco SP frontend Remoto conhece React ReactJ...</td>\n",
       "    </tr>\n",
       "    <tr>\n",
       "      <th>3</th>\n",
       "      <td>Lucas</td>\n",
       "      <td>Pereira</td>\n",
       "      <td>teste@demo.com.br</td>\n",
       "      <td>Sao Paulo</td>\n",
       "      <td>SP</td>\n",
       "      <td>frontend</td>\n",
       "      <td>Remoto</td>\n",
       "      <td>ReactNative Bootstrap Java JavaScript jQuery</td>\n",
       "      <td>React</td>\n",
       "      <td>Basico</td>\n",
       "      <td>Pleno</td>\n",
       "      <td>Gostaria de uma vaga no campo de programacao f...</td>\n",
       "      <td>Sao Paulo SP frontend Remoto conhece ReactNati...</td>\n",
       "    </tr>\n",
       "    <tr>\n",
       "      <th>13</th>\n",
       "      <td>Gabriela</td>\n",
       "      <td>Rumi</td>\n",
       "      <td>teste@demo.com.br</td>\n",
       "      <td>Sao Paulo</td>\n",
       "      <td>SP</td>\n",
       "      <td>frontend</td>\n",
       "      <td>Fisico</td>\n",
       "      <td>HTML CCS JavaScript Bootstrap</td>\n",
       "      <td>HTML</td>\n",
       "      <td>Basico</td>\n",
       "      <td>Senior</td>\n",
       "      <td>Procuro uma vaga de programador front-end</td>\n",
       "      <td>Sao Paulo SP frontend Fisico conhece HTML CCS ...</td>\n",
       "    </tr>\n",
       "    <tr>\n",
       "      <th>6</th>\n",
       "      <td>Antônia</td>\n",
       "      <td>Garibaldi</td>\n",
       "      <td>teste@demo.com.br</td>\n",
       "      <td>Cabo Frio</td>\n",
       "      <td>RJ</td>\n",
       "      <td>frontend</td>\n",
       "      <td>Fisico</td>\n",
       "      <td>React jQuery</td>\n",
       "      <td>jQuery</td>\n",
       "      <td>Intermediario</td>\n",
       "      <td>Junior</td>\n",
       "      <td>Procuro uma vaga de programador front-end</td>\n",
       "      <td>Cabo Frio RJ frontend Fisico conhece React jQu...</td>\n",
       "    </tr>\n",
       "    <tr>\n",
       "      <th>27</th>\n",
       "      <td>Pedro</td>\n",
       "      <td>Araújo</td>\n",
       "      <td>teste@demo.com.br</td>\n",
       "      <td>Novo Hamburgo</td>\n",
       "      <td>RS</td>\n",
       "      <td>fullstack</td>\n",
       "      <td>Remoto</td>\n",
       "      <td>HTML CCS JavaScript Python C AWS React ReactNa...</td>\n",
       "      <td>JavaScript</td>\n",
       "      <td>Intermediario</td>\n",
       "      <td>Senior</td>\n",
       "      <td>Gostaria de uma vaga no campo de programacao f...</td>\n",
       "      <td>Novo Hamburgo RS fullstack Remoto conhece HTML...</td>\n",
       "    </tr>\n",
       "  </tbody>\n",
       "</table>\n",
       "</div>"
      ],
      "text/plain": [
       "                 Nome  ...                                         all_concat\n",
       "AplicanteID            ...                                                   \n",
       "30              André  ...  Osasco SP frontend Remoto conhece React ReactJ...\n",
       "3               Lucas  ...  Sao Paulo SP frontend Remoto conhece ReactNati...\n",
       "13           Gabriela  ...  Sao Paulo SP frontend Fisico conhece HTML CCS ...\n",
       "6             Antônia  ...  Cabo Frio RJ frontend Fisico conhece React jQu...\n",
       "27              Pedro  ...  Novo Hamburgo RS fullstack Remoto conhece HTML...\n",
       "\n",
       "[5 rows x 13 columns]"
      ]
     },
     "execution_count": 43,
     "metadata": {
      "tags": []
     },
     "output_type": "execute_result"
    }
   ],
   "source": [
    "# Shows the best applicants\n",
    "df.set_index('AplicanteID').loc[top_5]"
   ]
  },
  {
   "cell_type": "markdown",
   "metadata": {},
   "source": [
    "# Some further improvements:\n",
    "\n",
    "* Sometimes filling out a form can be exhausting, so using a computer vision technique called EasyOCR is suggested. This technique can read a summary in seconds and then can be applied to the NLP model. "
   ]
  }
 ],
 "metadata": {
  "colab": {
   "collapsed_sections": [],
   "name": "job_applicants_recommender_pt",
   "provenance": [],
   "toc_visible": true
  },
  "kernelspec": {
   "display_name": "Python 3",
   "language": "python",
   "name": "python3"
  },
  "language_info": {
   "codemirror_mode": {
    "name": "ipython",
    "version": 3
   },
   "file_extension": ".py",
   "mimetype": "text/x-python",
   "name": "python",
   "nbconvert_exporter": "python",
   "pygments_lexer": "ipython3",
   "version": "3.7.1"
  }
 },
 "nbformat": 4,
 "nbformat_minor": 1
}
