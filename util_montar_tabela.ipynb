{
  "nbformat": 4,
  "nbformat_minor": 0,
  "metadata": {
    "colab": {
      "name": "util_montar_tabela",
      "provenance": [],
      "collapsed_sections": [],
      "toc_visible": true
    },
    "kernelspec": {
      "name": "python3",
      "display_name": "Python 3.7.1 64-bit ('base': conda)"
    },
    "language_info": {
      "name": "python",
      "version": "3.7.1"
    }
  },
  "cells": [
    {
      "cell_type": "code",
      "metadata": {
        "id": "xR1WBX1qD4Qm"
      },
      "source": [
        "import random\n",
        "import numpy as np\n",
        "import pandas as pd"
      ],
      "execution_count": 1,
      "outputs": []
    },
    {
      "cell_type": "code",
      "metadata": {
        "id": "w_kAn8z2-hPl"
      },
      "source": [
        "possible_columns = ['AplicanteID', 'DescricaoTrabInteresse', 'Cidade','OpcaoFisico', 'OpcaoRemoto', 'ExperienciaTrabalho', 'Ingles','Soft Skills']"
      ],
      "execution_count": null,
      "outputs": []
    },
    {
      "cell_type": "code",
      "metadata": {
        "id": "yNtevsh9_thQ"
      },
      "source": [
        "possible_job_description = ['Procuro vaga de junior em Data Science aplicado a area de financas',\n",
        "                            'Gostaria de uma vaga no campo de programacao front-end, utilizando tecnologias atuais como ReactNative',\n",
        "                            'Procuro uma vaga no gerenciamento de times front-end',\n",
        "                            'Procuro uma vaga de programador back-end',\n",
        "                            'Procuro uma vaga de programador front-end',\n",
        "                            'Quero uma vaga no time de analise de dados com foco em big data',\n",
        "                            'Gostaria de uma vaga no time de Cientista de Dados com foco em Machine Learning, Visao Computacional e time series',\n",
        "                            'Estou procurando uma vaga de business inteligence, aplicado ao setor de delivery de comida',\n",
        "                            'Vaga em Data Science pleno com foco no setor de varejo'\n",
        "\n",
        "]"
      ],
      "execution_count": null,
      "outputs": []
    },
    {
      "cell_type": "code",
      "metadata": {
        "id": "Bfboso-sDGEo"
      },
      "source": [
        "possible_cities = ['Sao Paulo',\n",
        "                   'Rio de Janeiro',\n",
        "                   'Santa Maria',\n",
        "                   'Porto Alegre','Canoas','Sao Bernardo do Campo', 'Buzios','Florianopolis','Curitiba','Garopaba','Pato Branco','Santiago','Bahia','Aracaju']"
      ],
      "execution_count": null,
      "outputs": []
    },
    {
      "cell_type": "code",
      "metadata": {
        "id": "pdKCpKhfDqew"
      },
      "source": [
        "possible_yes_no = ['Sim','Nao']"
      ],
      "execution_count": null,
      "outputs": []
    },
    {
      "cell_type": "code",
      "metadata": {
        "id": "zkwL0hpSDvaW"
      },
      "source": [
        "possible_work_exp = ['< 2', '2 - 4','5 - 10', '10 >']"
      ],
      "execution_count": null,
      "outputs": []
    },
    {
      "cell_type": "code",
      "metadata": {
        "id": "UKLH4oOZfIZB"
      },
      "source": [
        "possible_ingles = ['Basico','Intermediario','Avancado']"
      ],
      "execution_count": null,
      "outputs": []
    },
    {
      "cell_type": "code",
      "metadata": {
        "id": "6dynYs74fRlL"
      },
      "source": [
        "possible_soft_skills = ['Criatividade|Colaboracao|Agilidade', 'Autoditada|Colaboracao|Agilidade', 'Comprometimento|Agilidade', 'Dinamico|Autodisciplina', 'Lideranca|Flexibilidade|Comprometimento', 'TrabalhoEquipe|Comunicacao']"
      ],
      "execution_count": null,
      "outputs": []
    },
    {
      "cell_type": "code",
      "metadata": {
        "id": "kn-wyn1FD2se"
      },
      "source": [
        "indexes = random.randint(1, 2)"
      ],
      "execution_count": null,
      "outputs": []
    },
    {
      "cell_type": "code",
      "metadata": {
        "id": "jotlKLwqEFB6"
      },
      "source": [
        "AppID = np.arange(1, 30, 1)"
      ],
      "execution_count": null,
      "outputs": []
    },
    {
      "cell_type": "code",
      "metadata": {
        "id": "9daSMpqZER5V"
      },
      "source": [
        "job_desc = []\n",
        "cities = []\n",
        "work_fis = []\n",
        "work_remote = []\n",
        "work_exp = []\n",
        "ingles = []\n",
        "soft = []\n",
        "for i in range(0, len(AppID)):\n",
        "  random.seed(40+i)\n",
        "  job_desc.append(possible_job_description[random.randint(0, len(possible_job_description)-1)])\n",
        "  cities.append(possible_cities[random.randint(0, len(possible_cities)-1)])\n",
        "  work_fis.append(possible_yes_no[random.randint(0, len(possible_yes_no)-1)])\n",
        "  work_remote.append(possible_yes_no[random.randint(0, len(possible_yes_no)-1)])\n",
        "  work_exp.append(possible_work_exp[random.randint(0, len(possible_work_exp)-1)])\n",
        "  ingles.append(possible_ingles[random.randint(0, len(possible_ingles)-1)])\n",
        "  soft.append(possible_soft_skills[random.randint(0, len(possible_soft_skills)-1)])"
      ],
      "execution_count": null,
      "outputs": []
    },
    {
      "cell_type": "code",
      "metadata": {
        "id": "k2HaRA4ZEwvH"
      },
      "source": [
        "applicant_df = pd.DataFrame(data=[AppID, job_desc, cities, work_fis, work_remote, work_exp, ingles, soft]).T\n",
        "applicant_df.columns = possible_columns\n",
        "applicant_df.to_csv('applicants.csv')"
      ],
      "execution_count": null,
      "outputs": []
    },
    {
      "cell_type": "code",
      "metadata": {
        "id": "Y2xlC51MGEpX",
        "colab": {
          "base_uri": "https://localhost:8080/"
        },
        "outputId": "fcf34237-731c-4203-c449-5fa687a56c2c"
      },
      "source": [
        "df['Tecnologias']"
      ],
      "execution_count": null,
      "outputs": [
        {
          "output_type": "execute_result",
          "data": {
            "text/plain": [
              "0                   PowerBI|Tableau|R|Python|SQL|Docker\n",
              "1       DeepLearning|Python|Sckitlearn|C|C#|JavaScript|\n",
              "2          ReactNative|Bootstrap|Java|JavaScript|jQuery\n",
              "3               PowerBI|R|Python|SQL|Excel|GoogleSheets\n",
              "4                           Python|Scitkitlearn|Prophet\n",
              "5                                          React|jQuery\n",
              "6                             Flutter|ReactNative|Swift\n",
              "7                            Spark|Tableau|R|Python|SQL\n",
              "8                                     Python|SQL|Docker\n",
              "9                                   Flutter|ReactNative\n",
              "10                                               Python\n",
              "11                   PHP|Ruby|C#|Java|JavaScript|Python\n",
              "12                        HTML|CCS|JavaScript|Bootstrap\n",
              "13                                PHP|Ruby|C#|Java|Perl\n",
              "14        React|HTML|CCS|ReactNative|Swift|Kanban|Scrum\n",
              "15                                         C|C#|Python|\n",
              "16    Deep|Learning|Python|Scikitlearn|C|JavaScript|SQL\n",
              "17             AWS|GoogleCloud|Docker|JavaScript|Python\n",
              "18             AWS|GoogleCloud|Docker|JavaScript|Python\n",
              "19                   PHP|Ruby|C#|Java|JavaScript|Python\n",
              "20       HTML|CCS|JavaScript|Bootstrap|ReacNative|Swift\n",
              "21                                  Python|PowerBI||SQL\n",
              "22                                            HTML|CCS|\n",
              "23                                  C|C#|JavaScript|AWS\n",
              "24                                    PowerBI|Tableau|R\n",
              "25                      DeepLearning|Scikitlearn|Python\n",
              "26    HTML|CCS|JavaScript|Python|C|AWS|React|ReactNa...\n",
              "27                  HTML||Python|C||SQL|jQuery|Flutter|\n",
              "28           Docker|AWS|GoogleCloud|Python|C|JavaScript\n",
              "Name: Tecnologias, dtype: object"
            ]
          },
          "metadata": {
            "tags": []
          },
          "execution_count": 110
        }
      ]
    },
    {
      "cell_type": "code",
      "metadata": {
        "id": "hc98laCHF0kf"
      },
      "source": [
        "df = pd.read_csv('aplicantes.csv', encoding='ISO-8859-1')"
      ],
      "execution_count": 2,
      "outputs": []
    },
    {
      "cell_type": "code",
      "metadata": {
        "colab": {
          "base_uri": "https://localhost:8080/",
          "height": 343
        },
        "id": "lfzijlWd--nE",
        "outputId": "40b74ec7-2fb9-4d9e-be74-f5364dbb89fd"
      },
      "source": [
        "df.head()"
      ],
      "execution_count": 3,
      "outputs": [
        {
          "output_type": "execute_result",
          "data": {
            "text/plain": [
              "   AplicanteID                             DescricaoTrabInteresse  \\\n",
              "0            1  Estou procurando uma vaga de business intelige...   \n",
              "1            2  Gostaria de uma vaga no time de Cientista de D...   \n",
              "2            3  Gostaria de uma vaga no campo de programacao f...   \n",
              "3            4  Procuro vaga de junior de cientista de dados a...   \n",
              "4            5  Gostaria de uma vaga no time de Cientista de D...   \n",
              "\n",
              "                  Cidade Estado   TipoTrabalho  \\\n",
              "0               Garopaba     SC  Físico|Remoto   \n",
              "1  Sao Bernardo do Campo     SP  Físico|Remoto   \n",
              "2              Sao Paulo     SP         Remoto   \n",
              "3                 Canoas     RS         Fisico   \n",
              "4               Curitiba     PR  Fisico|Remoto   \n",
              "\n",
              "                                       Tecnologias MelhorTecnologia    Ingles  \\\n",
              "0              PowerBI|Tableau|R|Python|SQL|Docker           Python  Avancado   \n",
              "1  DeepLearning|Python|Sckitlearn|C|C#|JavaScript|     DeepLearning  Avancado   \n",
              "2     ReactNative|Bootstrap|Java|JavaScript|jQuery            React    Basico   \n",
              "3          PowerBI|R|Python|SQL|Excel|GoogleSheets                R  Avancado   \n",
              "4                      Python|Scitkitlearn|Prophet          Prophet    Basico   \n",
              "\n",
              "                  Soft Skills ExperienciaTrabalho  \n",
              "0  TrabalhoEquipe|Comunicacao               Pleno  \n",
              "1  TrabalhoEquipe|Comunicacao              Senior  \n",
              "2  TrabalhoEquipe|Comunicacao               Pleno  \n",
              "3  TrabalhoEquipe|Comunicacao              Junior  \n",
              "4   Comprometimento|Agilidade              Senior  "
            ],
            "text/html": "<div>\n<style scoped>\n    .dataframe tbody tr th:only-of-type {\n        vertical-align: middle;\n    }\n\n    .dataframe tbody tr th {\n        vertical-align: top;\n    }\n\n    .dataframe thead th {\n        text-align: right;\n    }\n</style>\n<table border=\"1\" class=\"dataframe\">\n  <thead>\n    <tr style=\"text-align: right;\">\n      <th></th>\n      <th>AplicanteID</th>\n      <th>DescricaoTrabInteresse</th>\n      <th>Cidade</th>\n      <th>Estado</th>\n      <th>TipoTrabalho</th>\n      <th>Tecnologias</th>\n      <th>MelhorTecnologia</th>\n      <th>Ingles</th>\n      <th>Soft Skills</th>\n      <th>ExperienciaTrabalho</th>\n    </tr>\n  </thead>\n  <tbody>\n    <tr>\n      <th>0</th>\n      <td>1</td>\n      <td>Estou procurando uma vaga de business intelige...</td>\n      <td>Garopaba</td>\n      <td>SC</td>\n      <td>Físico|Remoto</td>\n      <td>PowerBI|Tableau|R|Python|SQL|Docker</td>\n      <td>Python</td>\n      <td>Avancado</td>\n      <td>TrabalhoEquipe|Comunicacao</td>\n      <td>Pleno</td>\n    </tr>\n    <tr>\n      <th>1</th>\n      <td>2</td>\n      <td>Gostaria de uma vaga no time de Cientista de D...</td>\n      <td>Sao Bernardo do Campo</td>\n      <td>SP</td>\n      <td>Físico|Remoto</td>\n      <td>DeepLearning|Python|Sckitlearn|C|C#|JavaScript|</td>\n      <td>DeepLearning</td>\n      <td>Avancado</td>\n      <td>TrabalhoEquipe|Comunicacao</td>\n      <td>Senior</td>\n    </tr>\n    <tr>\n      <th>2</th>\n      <td>3</td>\n      <td>Gostaria de uma vaga no campo de programacao f...</td>\n      <td>Sao Paulo</td>\n      <td>SP</td>\n      <td>Remoto</td>\n      <td>ReactNative|Bootstrap|Java|JavaScript|jQuery</td>\n      <td>React</td>\n      <td>Basico</td>\n      <td>TrabalhoEquipe|Comunicacao</td>\n      <td>Pleno</td>\n    </tr>\n    <tr>\n      <th>3</th>\n      <td>4</td>\n      <td>Procuro vaga de junior de cientista de dados a...</td>\n      <td>Canoas</td>\n      <td>RS</td>\n      <td>Fisico</td>\n      <td>PowerBI|R|Python|SQL|Excel|GoogleSheets</td>\n      <td>R</td>\n      <td>Avancado</td>\n      <td>TrabalhoEquipe|Comunicacao</td>\n      <td>Junior</td>\n    </tr>\n    <tr>\n      <th>4</th>\n      <td>5</td>\n      <td>Gostaria de uma vaga no time de Cientista de D...</td>\n      <td>Curitiba</td>\n      <td>PR</td>\n      <td>Fisico|Remoto</td>\n      <td>Python|Scitkitlearn|Prophet</td>\n      <td>Prophet</td>\n      <td>Basico</td>\n      <td>Comprometimento|Agilidade</td>\n      <td>Senior</td>\n    </tr>\n  </tbody>\n</table>\n</div>"
          },
          "metadata": {},
          "execution_count": 3
        }
      ]
    },
    {
      "cell_type": "code",
      "metadata": {
        "id": "i12JZsK-iXPE"
      },
      "source": [
        "df['all_concat'] = df['DescricaoTrabInteresse'] + \" \" +df['Cidade'] + \" \" + df['Estado'] + \" \" + df['TipoTrabalho'] + \" \" + df['Tecnologias'] + \" \" + df['MelhorTecnologia'] + \" \" +df['ExperienciaTrabalho'] + \" \" +df['Ingles'] + \" \" +df['Soft Skills']"
      ],
      "execution_count": 4,
      "outputs": []
    },
    {
      "cell_type": "code",
      "metadata": {
        "id": "5T-CinqViqf6"
      },
      "source": [
        "new_df = df[['AplicanteID', 'all_concat']]"
      ],
      "execution_count": 5,
      "outputs": []
    },
    {
      "cell_type": "code",
      "metadata": {
        "colab": {
          "base_uri": "https://localhost:8080/"
        },
        "id": "n2odgdN0joDD",
        "outputId": "a85523b6-48f6-4476-c2a3-97c466e7a8f5"
      },
      "source": [
        "new_df['all_concat'] = new_df['all_concat'].str.replace('[^a-zA-Z, | \\n\\.]',\" \")"
      ],
      "execution_count": 6,
      "outputs": [
        {
          "output_type": "stream",
          "name": "stderr",
          "text": [
            "ipykernel_launcher:1: SettingWithCopyWarning: \nA value is trying to be set on a copy of a slice from a DataFrame.\nTry using .loc[row_indexer,col_indexer] = value instead\n\nSee the caveats in the documentation: https://pandas.pydata.org/pandas-docs/stable/user_guide/indexing.html#returning-a-view-versus-a-copy\n"
          ]
        }
      ]
    },
    {
      "cell_type": "code",
      "metadata": {
        "colab": {
          "base_uri": "https://localhost:8080/"
        },
        "id": "VE_oFP9KlUbB",
        "outputId": "98e792b7-4446-4674-9f5e-4673eb4072c5"
      },
      "source": [
        "new_df['all_concat'] = new_df['all_concat'].str.replace('|', \" \")\n",
        "new_df['all_concat'] = new_df['all_concat'].str.replace(',', \"\")"
      ],
      "execution_count": 7,
      "outputs": [
        {
          "output_type": "stream",
          "name": "stderr",
          "text": [
            "ipykernel_launcher:1: SettingWithCopyWarning: \nA value is trying to be set on a copy of a slice from a DataFrame.\nTry using .loc[row_indexer,col_indexer] = value instead\n\nSee the caveats in the documentation: https://pandas.pydata.org/pandas-docs/stable/user_guide/indexing.html#returning-a-view-versus-a-copy\nipykernel_launcher:2: SettingWithCopyWarning: \nA value is trying to be set on a copy of a slice from a DataFrame.\nTry using .loc[row_indexer,col_indexer] = value instead\n\nSee the caveats in the documentation: https://pandas.pydata.org/pandas-docs/stable/user_guide/indexing.html#returning-a-view-versus-a-copy\n"
          ]
        }
      ]
    },
    {
      "cell_type": "code",
      "metadata": {
        "colab": {
          "base_uri": "https://localhost:8080/"
        },
        "id": "OHPekONLjsXq",
        "outputId": "20697995-3ab3-4644-cdc7-ce8dab36abc7"
      },
      "source": [
        "new_df['all_concat'] = new_df['all_concat'].str.lower()"
      ],
      "execution_count": 8,
      "outputs": [
        {
          "output_type": "stream",
          "name": "stderr",
          "text": [
            "ipykernel_launcher:1: SettingWithCopyWarning: \nA value is trying to be set on a copy of a slice from a DataFrame.\nTry using .loc[row_indexer,col_indexer] = value instead\n\nSee the caveats in the documentation: https://pandas.pydata.org/pandas-docs/stable/user_guide/indexing.html#returning-a-view-versus-a-copy\n"
          ]
        }
      ]
    },
    {
      "cell_type": "code",
      "metadata": {
        "id": "XfN4rPSLmJyZ"
      },
      "source": [],
      "execution_count": 129,
      "outputs": []
    },
    {
      "cell_type": "code",
      "metadata": {
        "colab": {
          "base_uri": "https://localhost:8080/"
        },
        "id": "YYUFBQ8ckAsK",
        "outputId": "2a311afa-8a57-4aa8-abfc-4e6a4c1e6c66"
      },
      "source": [
        "import nltk\n",
        "from nltk.stem import PorterStemmer\n",
        "stemmer =  PorterStemmer()\n",
        "nltk.download('stopwords')\n",
        "stop = nltk.corpus.stopwords.words('portuguese')\n",
        "\n",
        "only_text = new_df['all_concat'].apply(lambda x: ' '.join([word for word in x.split() if word not in (stop)]))\n",
        "only_text.head()"
      ],
      "execution_count": 9,
      "outputs": [
        {
          "output_type": "stream",
          "name": "stderr",
          "text": [
            "[nltk_data] Downloading package stopwords to\n[nltk_data]     C:\\Users\\joaop\\AppData\\Roaming\\nltk_data...\n[nltk_data]   Unzipping corpora\\stopwords.zip.\n"
          ]
        },
        {
          "output_type": "execute_result",
          "data": {
            "text/plain": [
              "0    procurando vaga business inteligence aplicado ...\n",
              "1    gostaria vaga time cientista dados foco machin...\n",
              "2    gostaria vaga campo programacao front end util...\n",
              "3    procuro vaga junior cientista dados aplicado a...\n",
              "4    gostaria vaga time cientista dados foco time s...\n",
              "Name: all_concat, dtype: object"
            ]
          },
          "metadata": {},
          "execution_count": 9
        }
      ]
    },
    {
      "cell_type": "code",
      "metadata": {
        "id": "Yt_JQ0VZSvZw"
      },
      "source": [],
      "execution_count": 133,
      "outputs": []
    },
    {
      "cell_type": "code",
      "metadata": {
        "id": "sxsUhVSfmL9Z"
      },
      "source": [
        "only_text = only_text.apply(lambda x : x.split(\" \"))"
      ],
      "execution_count": 10,
      "outputs": []
    },
    {
      "cell_type": "code",
      "metadata": {
        "id": "BLhuiNnek0gT"
      },
      "source": [
        "#only_text = only_text.apply(lambda x : filter(None,x.split(\" \")))\n",
        "#print(only_text.head())"
      ],
      "execution_count": 11,
      "outputs": []
    },
    {
      "cell_type": "code",
      "metadata": {
        "id": "jYmj8sdKmilH"
      },
      "source": [
        "#only_text = only_text.apply(lambda x : [stemmer.stem(y) for y in x])\n",
        "#print(only_text.head())"
      ],
      "execution_count": 12,
      "outputs": []
    },
    {
      "cell_type": "code",
      "metadata": {
        "colab": {
          "base_uri": "https://localhost:8080/"
        },
        "id": "6KzpacQ6mrKx",
        "outputId": "85761185-543b-4eac-de6a-59cbe37a6017"
      },
      "source": [
        "only_text = only_text.apply(lambda x : \" \".join(x))\n",
        "print(only_text.head())"
      ],
      "execution_count": 13,
      "outputs": [
        {
          "output_type": "stream",
          "name": "stdout",
          "text": [
            "0    procurando vaga business inteligence aplicado ...\n1    gostaria vaga time cientista dados foco machin...\n2    gostaria vaga campo programacao front end util...\n3    procuro vaga junior cientista dados aplicado a...\n4    gostaria vaga time cientista dados foco time s...\nName: all_concat, dtype: object\n"
          ]
        }
      ]
    },
    {
      "cell_type": "code",
      "metadata": {
        "id": "ZLE3Gv6onFjU"
      },
      "source": [
        "final_df = pd.DataFrame()"
      ],
      "execution_count": 14,
      "outputs": []
    },
    {
      "cell_type": "code",
      "metadata": {
        "id": "-L5JHY57m9b5"
      },
      "source": [
        "final_df['text'] = only_text\n",
        "final_df['AplicanteID'] = new_df['AplicanteID']"
      ],
      "execution_count": 15,
      "outputs": []
    },
    {
      "cell_type": "code",
      "metadata": {
        "colab": {
          "base_uri": "https://localhost:8080/",
          "height": 204
        },
        "id": "1BFp89eVnIK5",
        "outputId": "cc5d2cc0-7aad-4e10-8b42-30a19b26368d"
      },
      "source": [
        "final_df.head()"
      ],
      "execution_count": 16,
      "outputs": [
        {
          "output_type": "execute_result",
          "data": {
            "text/plain": [
              "                                                text  AplicanteID\n",
              "0  procurando vaga business inteligence aplicado ...            1\n",
              "1  gostaria vaga time cientista dados foco machin...            2\n",
              "2  gostaria vaga campo programacao front end util...            3\n",
              "3  procuro vaga junior cientista dados aplicado a...            4\n",
              "4  gostaria vaga time cientista dados foco time s...            5"
            ],
            "text/html": "<div>\n<style scoped>\n    .dataframe tbody tr th:only-of-type {\n        vertical-align: middle;\n    }\n\n    .dataframe tbody tr th {\n        vertical-align: top;\n    }\n\n    .dataframe thead th {\n        text-align: right;\n    }\n</style>\n<table border=\"1\" class=\"dataframe\">\n  <thead>\n    <tr style=\"text-align: right;\">\n      <th></th>\n      <th>text</th>\n      <th>AplicanteID</th>\n    </tr>\n  </thead>\n  <tbody>\n    <tr>\n      <th>0</th>\n      <td>procurando vaga business inteligence aplicado ...</td>\n      <td>1</td>\n    </tr>\n    <tr>\n      <th>1</th>\n      <td>gostaria vaga time cientista dados foco machin...</td>\n      <td>2</td>\n    </tr>\n    <tr>\n      <th>2</th>\n      <td>gostaria vaga campo programacao front end util...</td>\n      <td>3</td>\n    </tr>\n    <tr>\n      <th>3</th>\n      <td>procuro vaga junior cientista dados aplicado a...</td>\n      <td>4</td>\n    </tr>\n    <tr>\n      <th>4</th>\n      <td>gostaria vaga time cientista dados foco time s...</td>\n      <td>5</td>\n    </tr>\n  </tbody>\n</table>\n</div>"
          },
          "metadata": {},
          "execution_count": 16
        }
      ]
    },
    {
      "cell_type": "code",
      "metadata": {
        "colab": {
          "base_uri": "https://localhost:8080/"
        },
        "id": "bujuBVDxnZh6",
        "outputId": "c33556e5-9194-42f4-ce05-f3bc20e95191"
      },
      "source": [
        "from sklearn.feature_extraction.text import TfidfVectorizer\n",
        "#from sklearn.feature_extraction.text import CountVectorizer\n",
        "\n",
        "tfidf_vectorizer = TfidfVectorizer()\n",
        "\n",
        "tfidf_appid = tfidf_vectorizer.fit_transform((final_df['text'])) #fitting and transforming the vector\n",
        "tfidf_appid"
      ],
      "execution_count": 17,
      "outputs": [
        {
          "output_type": "execute_result",
          "data": {
            "text/plain": [
              "<30x143 sparse matrix of type '<class 'numpy.float64'>'\n",
              "\twith 564 stored elements in Compressed Sparse Row format>"
            ]
          },
          "metadata": {},
          "execution_count": 17
        }
      ]
    },
    {
      "cell_type": "markdown",
      "metadata": {
        "id": "bWYNY8jGp2S6"
      },
      "source": [
        "# Empresas"
      ]
    },
    {
      "cell_type": "code",
      "metadata": {
        "id": "I3v4dDoZp19L"
      },
      "source": [
        "empresas_df = pd.read_csv('empresas.csv', encoding='ISO-8859-1')"
      ],
      "execution_count": 18,
      "outputs": []
    },
    {
      "cell_type": "code",
      "metadata": {
        "colab": {
          "base_uri": "https://localhost:8080/",
          "height": 250
        },
        "id": "EkyPnyrCCtAy",
        "outputId": "263dabb0-2a60-4573-9656-cb8502045fee"
      },
      "source": [
        "empresas_df"
      ],
      "execution_count": 19,
      "outputs": [
        {
          "output_type": "execute_result",
          "data": {
            "text/plain": [
              "   EmpresaID NomeEmpresa          Cidade Estado                Vaga  \\\n",
              "0          1       Globo  Rio de Janeiro     RJ  Cientista de Dados   \n",
              "1          2     Infosys       Sao Paulo     SP   Desenvolver React   \n",
              "\n",
              "                                               Setor  \\\n",
              "0  Tecnologia da informacao e servicos; Telecomun...   \n",
              "1                Tecnologia da informacao e servicos   \n",
              "\n",
              "                                       DescricaoVaga  \\\n",
              "0  Prover ao time Globoplay dados e informacao qu...   \n",
              "1  A Infosys está procurando um React Developer p...   \n",
              "\n",
              "                              TecnologiasNecessarias         Ingles  \\\n",
              "0  PowerBI|GoogleAnalytics|GoogleDataStudio|SQL|R...  Intermediario   \n",
              "1                       AWS|React|JavaScript|ReactJS       Avancado   \n",
              "\n",
              "    Experiencia TipoTrabalho  \n",
              "0         Pleno       Fisico  \n",
              "1  Pleno|Senior       Remoto  "
            ],
            "text/html": "<div>\n<style scoped>\n    .dataframe tbody tr th:only-of-type {\n        vertical-align: middle;\n    }\n\n    .dataframe tbody tr th {\n        vertical-align: top;\n    }\n\n    .dataframe thead th {\n        text-align: right;\n    }\n</style>\n<table border=\"1\" class=\"dataframe\">\n  <thead>\n    <tr style=\"text-align: right;\">\n      <th></th>\n      <th>EmpresaID</th>\n      <th>NomeEmpresa</th>\n      <th>Cidade</th>\n      <th>Estado</th>\n      <th>Vaga</th>\n      <th>Setor</th>\n      <th>DescricaoVaga</th>\n      <th>TecnologiasNecessarias</th>\n      <th>Ingles</th>\n      <th>Experiencia</th>\n      <th>TipoTrabalho</th>\n    </tr>\n  </thead>\n  <tbody>\n    <tr>\n      <th>0</th>\n      <td>1</td>\n      <td>Globo</td>\n      <td>Rio de Janeiro</td>\n      <td>RJ</td>\n      <td>Cientista de Dados</td>\n      <td>Tecnologia da informacao e servicos; Telecomun...</td>\n      <td>Prover ao time Globoplay dados e informacao qu...</td>\n      <td>PowerBI|GoogleAnalytics|GoogleDataStudio|SQL|R...</td>\n      <td>Intermediario</td>\n      <td>Pleno</td>\n      <td>Fisico</td>\n    </tr>\n    <tr>\n      <th>1</th>\n      <td>2</td>\n      <td>Infosys</td>\n      <td>Sao Paulo</td>\n      <td>SP</td>\n      <td>Desenvolver React</td>\n      <td>Tecnologia da informacao e servicos</td>\n      <td>A Infosys está procurando um React Developer p...</td>\n      <td>AWS|React|JavaScript|ReactJS</td>\n      <td>Avancado</td>\n      <td>Pleno|Senior</td>\n      <td>Remoto</td>\n    </tr>\n  </tbody>\n</table>\n</div>"
          },
          "metadata": {},
          "execution_count": 19
        }
      ]
    },
    {
      "cell_type": "code",
      "metadata": {
        "id": "hp2tsijCq106"
      },
      "source": [
        "empresas_df['all_concat'] = empresas_df['NomeEmpresa'] + \" \" +empresas_df['Cidade'] + \" \" + empresas_df['Estado'] + \" \" +empresas_df['Vaga'] + \" \" +empresas_df['Setor'] + \" \" + empresas_df['DescricaoVaga'] + \" \" + empresas_df['TecnologiasNecessarias'] + \" \" +empresas_df['Experiencia'] + \" \" +empresas_df['Ingles'] + \" \" + empresas_df['TipoTrabalho']"
      ],
      "execution_count": 20,
      "outputs": []
    },
    {
      "cell_type": "code",
      "metadata": {
        "colab": {
          "base_uri": "https://localhost:8080/",
          "height": 267
        },
        "id": "tCwniunnqr96",
        "outputId": "798f77ba-676a-4b22-f607-0223c235e9f0"
      },
      "source": [
        "empresas_df"
      ],
      "execution_count": 21,
      "outputs": [
        {
          "output_type": "execute_result",
          "data": {
            "text/plain": [
              "   EmpresaID NomeEmpresa          Cidade Estado                Vaga  \\\n",
              "0          1       Globo  Rio de Janeiro     RJ  Cientista de Dados   \n",
              "1          2     Infosys       Sao Paulo     SP   Desenvolver React   \n",
              "\n",
              "                                               Setor  \\\n",
              "0  Tecnologia da informacao e servicos; Telecomun...   \n",
              "1                Tecnologia da informacao e servicos   \n",
              "\n",
              "                                       DescricaoVaga  \\\n",
              "0  Prover ao time Globoplay dados e informacao qu...   \n",
              "1  A Infosys está procurando um React Developer p...   \n",
              "\n",
              "                              TecnologiasNecessarias         Ingles  \\\n",
              "0  PowerBI|GoogleAnalytics|GoogleDataStudio|SQL|R...  Intermediario   \n",
              "1                       AWS|React|JavaScript|ReactJS       Avancado   \n",
              "\n",
              "    Experiencia TipoTrabalho  \\\n",
              "0         Pleno       Fisico   \n",
              "1  Pleno|Senior       Remoto   \n",
              "\n",
              "                                          all_concat  \n",
              "0  Globo Rio de Janeiro RJ Cientista de Dados Tec...  \n",
              "1  Infosys Sao Paulo SP Desenvolver React Tecnolo...  "
            ],
            "text/html": "<div>\n<style scoped>\n    .dataframe tbody tr th:only-of-type {\n        vertical-align: middle;\n    }\n\n    .dataframe tbody tr th {\n        vertical-align: top;\n    }\n\n    .dataframe thead th {\n        text-align: right;\n    }\n</style>\n<table border=\"1\" class=\"dataframe\">\n  <thead>\n    <tr style=\"text-align: right;\">\n      <th></th>\n      <th>EmpresaID</th>\n      <th>NomeEmpresa</th>\n      <th>Cidade</th>\n      <th>Estado</th>\n      <th>Vaga</th>\n      <th>Setor</th>\n      <th>DescricaoVaga</th>\n      <th>TecnologiasNecessarias</th>\n      <th>Ingles</th>\n      <th>Experiencia</th>\n      <th>TipoTrabalho</th>\n      <th>all_concat</th>\n    </tr>\n  </thead>\n  <tbody>\n    <tr>\n      <th>0</th>\n      <td>1</td>\n      <td>Globo</td>\n      <td>Rio de Janeiro</td>\n      <td>RJ</td>\n      <td>Cientista de Dados</td>\n      <td>Tecnologia da informacao e servicos; Telecomun...</td>\n      <td>Prover ao time Globoplay dados e informacao qu...</td>\n      <td>PowerBI|GoogleAnalytics|GoogleDataStudio|SQL|R...</td>\n      <td>Intermediario</td>\n      <td>Pleno</td>\n      <td>Fisico</td>\n      <td>Globo Rio de Janeiro RJ Cientista de Dados Tec...</td>\n    </tr>\n    <tr>\n      <th>1</th>\n      <td>2</td>\n      <td>Infosys</td>\n      <td>Sao Paulo</td>\n      <td>SP</td>\n      <td>Desenvolver React</td>\n      <td>Tecnologia da informacao e servicos</td>\n      <td>A Infosys está procurando um React Developer p...</td>\n      <td>AWS|React|JavaScript|ReactJS</td>\n      <td>Avancado</td>\n      <td>Pleno|Senior</td>\n      <td>Remoto</td>\n      <td>Infosys Sao Paulo SP Desenvolver React Tecnolo...</td>\n    </tr>\n  </tbody>\n</table>\n</div>"
          },
          "metadata": {},
          "execution_count": 21
        }
      ]
    },
    {
      "cell_type": "code",
      "metadata": {
        "id": "x6L6BWJRrwrU"
      },
      "source": [
        "empresas_df['all_concat'] = empresas_df['all_concat'].str.replace('[^a-zA-Z, | \\n\\.]',\" \")"
      ],
      "execution_count": 22,
      "outputs": []
    },
    {
      "cell_type": "code",
      "metadata": {
        "id": "zuaVdD-VTLVo"
      },
      "source": [
        "empresas_df['all_concat'] = empresas_df['all_concat'].replace(',', \"\")"
      ],
      "execution_count": 23,
      "outputs": []
    },
    {
      "cell_type": "code",
      "metadata": {
        "id": "cFGCp-PnsBpb"
      },
      "source": [
        "empresas_df['all_concat'] = empresas_df['all_concat'].str.lower()"
      ],
      "execution_count": 24,
      "outputs": []
    },
    {
      "cell_type": "code",
      "metadata": {
        "colab": {
          "base_uri": "https://localhost:8080/",
          "height": 168
        },
        "id": "8ehhHCFaDVV8",
        "outputId": "abbb9166-51bf-4506-c45c-02c6a091604a"
      },
      "source": [
        "EmpresaID = 2\n",
        "index = np.where(empresas_df['EmpresaID'] == EmpresaID)[0][0]\n",
        "empresa = empresas_df.iloc[[index]]\n",
        "empresa"
      ],
      "execution_count": 25,
      "outputs": [
        {
          "output_type": "execute_result",
          "data": {
            "text/plain": [
              "   EmpresaID NomeEmpresa     Cidade Estado               Vaga  \\\n",
              "1          2     Infosys  Sao Paulo     SP  Desenvolver React   \n",
              "\n",
              "                                 Setor  \\\n",
              "1  Tecnologia da informacao e servicos   \n",
              "\n",
              "                                       DescricaoVaga  \\\n",
              "1  A Infosys está procurando um React Developer p...   \n",
              "\n",
              "         TecnologiasNecessarias    Ingles   Experiencia TipoTrabalho  \\\n",
              "1  AWS|React|JavaScript|ReactJS  Avancado  Pleno|Senior       Remoto   \n",
              "\n",
              "                                          all_concat  \n",
              "1  infosys sao paulo sp desenvolver react tecnolo...  "
            ],
            "text/html": "<div>\n<style scoped>\n    .dataframe tbody tr th:only-of-type {\n        vertical-align: middle;\n    }\n\n    .dataframe tbody tr th {\n        vertical-align: top;\n    }\n\n    .dataframe thead th {\n        text-align: right;\n    }\n</style>\n<table border=\"1\" class=\"dataframe\">\n  <thead>\n    <tr style=\"text-align: right;\">\n      <th></th>\n      <th>EmpresaID</th>\n      <th>NomeEmpresa</th>\n      <th>Cidade</th>\n      <th>Estado</th>\n      <th>Vaga</th>\n      <th>Setor</th>\n      <th>DescricaoVaga</th>\n      <th>TecnologiasNecessarias</th>\n      <th>Ingles</th>\n      <th>Experiencia</th>\n      <th>TipoTrabalho</th>\n      <th>all_concat</th>\n    </tr>\n  </thead>\n  <tbody>\n    <tr>\n      <th>1</th>\n      <td>2</td>\n      <td>Infosys</td>\n      <td>Sao Paulo</td>\n      <td>SP</td>\n      <td>Desenvolver React</td>\n      <td>Tecnologia da informacao e servicos</td>\n      <td>A Infosys está procurando um React Developer p...</td>\n      <td>AWS|React|JavaScript|ReactJS</td>\n      <td>Avancado</td>\n      <td>Pleno|Senior</td>\n      <td>Remoto</td>\n      <td>infosys sao paulo sp desenvolver react tecnolo...</td>\n    </tr>\n  </tbody>\n</table>\n</div>"
          },
          "metadata": {},
          "execution_count": 25
        }
      ]
    },
    {
      "cell_type": "code",
      "metadata": {
        "colab": {
          "base_uri": "https://localhost:8080/"
        },
        "id": "M56b0GjYsH_z",
        "outputId": "d8df4698-0727-488e-d016-c2f71eb727e4"
      },
      "source": [
        "jobid = tfidf_vectorizer.transform((empresa['all_concat'])) #fitting and transforming the vector\n",
        "jobid"
      ],
      "execution_count": 26,
      "outputs": [
        {
          "output_type": "execute_result",
          "data": {
            "text/plain": [
              "<1x143 sparse matrix of type '<class 'numpy.float64'>'\n",
              "\twith 12 stored elements in Compressed Sparse Row format>"
            ]
          },
          "metadata": {},
          "execution_count": 26
        }
      ]
    },
    {
      "cell_type": "code",
      "metadata": {
        "id": "bb-nIu23sWIj"
      },
      "source": [
        "from sklearn.metrics.pairwise import cosine_similarity"
      ],
      "execution_count": 27,
      "outputs": []
    },
    {
      "cell_type": "code",
      "metadata": {
        "id": "uO1uY0Vqsn17"
      },
      "source": [
        "output = map(lambda x: cosine_similarity(jobid, x),tfidf_appid)"
      ],
      "execution_count": 28,
      "outputs": []
    },
    {
      "cell_type": "code",
      "metadata": {
        "id": "BJXjXduZs4Rz"
      },
      "source": [
        "output2 = list(output)"
      ],
      "execution_count": 29,
      "outputs": []
    },
    {
      "cell_type": "code",
      "metadata": {
        "id": "BChn1uK9tTJ3"
      },
      "source": [
        "distances = []\n",
        "for i in range(0,len(final_df)):\n",
        "  distances.append(output2[i][0][0])"
      ],
      "execution_count": 30,
      "outputs": []
    },
    {
      "cell_type": "code",
      "metadata": {
        "id": "lielz5RyuDcD"
      },
      "source": [],
      "execution_count": 154,
      "outputs": []
    },
    {
      "cell_type": "code",
      "metadata": {
        "id": "wePRJj-at1VE"
      },
      "source": [
        "final_df['distances'] = distances"
      ],
      "execution_count": 31,
      "outputs": []
    },
    {
      "cell_type": "code",
      "metadata": {
        "id": "B2oNsbm2uIJa"
      },
      "source": [
        "top_5 = final_df.sort_values('distances', ascending = False)['AplicanteID'][:5].values"
      ],
      "execution_count": 32,
      "outputs": []
    },
    {
      "cell_type": "code",
      "metadata": {
        "id": "kO8nAbxPuR7b"
      },
      "source": [
        "recomendacao_aplicantes = pd.DataFrame(columns = ['Top 5','EmpresaID', 'AplicanteID Recomendado'])\n",
        "\n",
        "for i in range(0,len(top_5)):\n",
        "  recomendacao_aplicantes.at[i, 'Top 5'] =  i+1\n",
        "  recomendacao_aplicantes.at[i, 'EmpresaID'] = EmpresaID \n",
        "  recomendacao_aplicantes.at[i, 'AplicanteID Recomendado'] = top_5[i]"
      ],
      "execution_count": 42,
      "outputs": []
    },
    {
      "cell_type": "code",
      "metadata": {
        "colab": {
          "base_uri": "https://localhost:8080/",
          "height": 235
        },
        "id": "c1AaDzcGGLae",
        "outputId": "d84f8657-b494-424f-b142-e48154a44f8c"
      },
      "source": [
        "recomendacao_aplicantes.set_index('Top 5')"
      ],
      "execution_count": 43,
      "outputs": [
        {
          "output_type": "execute_result",
          "data": {
            "text/plain": [
              "      EmpresaID AplicanteID Recomendado\n",
              "Top 5                                  \n",
              "1             2                      30\n",
              "2             2                       3\n",
              "3             2                      27\n",
              "4             2                      24\n",
              "5             2                      17"
            ],
            "text/html": "<div>\n<style scoped>\n    .dataframe tbody tr th:only-of-type {\n        vertical-align: middle;\n    }\n\n    .dataframe tbody tr th {\n        vertical-align: top;\n    }\n\n    .dataframe thead th {\n        text-align: right;\n    }\n</style>\n<table border=\"1\" class=\"dataframe\">\n  <thead>\n    <tr style=\"text-align: right;\">\n      <th></th>\n      <th>EmpresaID</th>\n      <th>AplicanteID Recomendado</th>\n    </tr>\n    <tr>\n      <th>Top 5</th>\n      <th></th>\n      <th></th>\n    </tr>\n  </thead>\n  <tbody>\n    <tr>\n      <th>1</th>\n      <td>2</td>\n      <td>30</td>\n    </tr>\n    <tr>\n      <th>2</th>\n      <td>2</td>\n      <td>3</td>\n    </tr>\n    <tr>\n      <th>3</th>\n      <td>2</td>\n      <td>27</td>\n    </tr>\n    <tr>\n      <th>4</th>\n      <td>2</td>\n      <td>24</td>\n    </tr>\n    <tr>\n      <th>5</th>\n      <td>2</td>\n      <td>17</td>\n    </tr>\n  </tbody>\n</table>\n</div>"
          },
          "metadata": {},
          "execution_count": 43
        }
      ]
    },
    {
      "cell_type": "code",
      "metadata": {
        "colab": {
          "base_uri": "https://localhost:8080/"
        },
        "id": "LGaKSPAyLa2D",
        "outputId": "1f657713-ae37-4891-fb5b-fde17e55a236"
      },
      "source": [
        "!pip install dataframe-image"
      ],
      "execution_count": 37,
      "outputs": [
        {
          "output_type": "stream",
          "name": "stdout",
          "text": [
            "Collecting dataframe-image\n  Downloading dataframe_image-0.1.1-py3-none-any.whl (32 kB)\nRequirement already satisfied: beautifulsoup4 in c:\\users\\joaop\\anaconda3\\lib\\site-packages (from dataframe-image) (4.8.2)\nCollecting aiohttp\n  Downloading aiohttp-3.7.4.post0-cp37-cp37m-win_amd64.whl (630 kB)\nRequirement already satisfied: requests in c:\\users\\joaop\\anaconda3\\lib\\site-packages (from dataframe-image) (2.22.0)\nRequirement already satisfied: nbconvert>=5 in c:\\users\\joaop\\anaconda3\\lib\\site-packages (from dataframe-image) (5.6.1)\nRequirement already satisfied: matplotlib>=3.1 in c:\\users\\joaop\\anaconda3\\lib\\site-packages (from dataframe-image) (3.1.3)\nRequirement already satisfied: pandas>=0.24 in c:\\users\\joaop\\anaconda3\\lib\\site-packages (from dataframe-image) (1.1.4)\nRequirement already satisfied: soupsieve>=1.2 in c:\\users\\joaop\\anaconda3\\lib\\site-packages (from beautifulsoup4->dataframe-image) (1.9.5)\nRequirement already satisfied: chardet<5.0,>=2.0 in c:\\users\\joaop\\anaconda3\\lib\\site-packages (from aiohttp->dataframe-image) (3.0.4)\nRequirement already satisfied: attrs>=17.3.0 in c:\\users\\joaop\\anaconda3\\lib\\site-packages (from aiohttp->dataframe-image) (19.3.0)\nRequirement already satisfied: typing-extensions>=3.6.5 in c:\\users\\joaop\\anaconda3\\lib\\site-packages (from aiohttp->dataframe-image) (3.7.4.2)\nCollecting yarl<2.0,>=1.0\n  Downloading yarl-1.6.3-cp37-cp37m-win_amd64.whl (124 kB)\nCollecting async-timeout<4.0,>=3.0\n  Downloading async_timeout-3.0.1-py3-none-any.whl (8.2 kB)\nCollecting multidict<7.0,>=4.5\n  Downloading multidict-5.1.0-cp37-cp37m-win_amd64.whl (48 kB)\nRequirement already satisfied: urllib3!=1.25.0,!=1.25.1,<1.26,>=1.21.1 in c:\\users\\joaop\\anaconda3\\lib\\site-packages (from requests->dataframe-image) (1.25.8)\nRequirement already satisfied: certifi>=2017.4.17 in c:\\users\\joaop\\anaconda3\\lib\\site-packages (from requests->dataframe-image) (2020.6.20)\nRequirement already satisfied: idna<2.9,>=2.5 in c:\\users\\joaop\\anaconda3\\lib\\site-packages (from requests->dataframe-image) (2.8)\nRequirement already satisfied: jinja2>=2.4 in c:\\users\\joaop\\anaconda3\\lib\\site-packages (from nbconvert>=5->dataframe-image) (2.11.1)\nRequirement already satisfied: pygments in c:\\users\\joaop\\anaconda3\\lib\\site-packages (from nbconvert>=5->dataframe-image) (2.5.2)\nRequirement already satisfied: testpath in c:\\users\\joaop\\anaconda3\\lib\\site-packages (from nbconvert>=5->dataframe-image) (0.4.4)\nRequirement already satisfied: entrypoints>=0.2.2 in c:\\users\\joaop\\anaconda3\\lib\\site-packages (from nbconvert>=5->dataframe-image) (0.3)\nRequirement already satisfied: jupyter-core in c:\\users\\joaop\\anaconda3\\lib\\site-packages (from nbconvert>=5->dataframe-image) (4.6.1)\nRequirement already satisfied: mistune<2,>=0.8.1 in c:\\users\\joaop\\anaconda3\\lib\\site-packages (from nbconvert>=5->dataframe-image) (0.8.4)\nRequirement already satisfied: nbformat>=4.4 in c:\\users\\joaop\\anaconda3\\lib\\site-packages (from nbconvert>=5->dataframe-image) (5.0.4)\nRequirement already satisfied: pandocfilters>=1.4.1 in c:\\users\\joaop\\anaconda3\\lib\\site-packages (from nbconvert>=5->dataframe-image) (1.4.2)\nRequirement already satisfied: defusedxml in c:\\users\\joaop\\anaconda3\\lib\\site-packages (from nbconvert>=5->dataframe-image) (0.6.0)\nRequirement already satisfied: bleach in c:\\users\\joaop\\anaconda3\\lib\\site-packages (from nbconvert>=5->dataframe-image) (3.1.0)\nRequirement already satisfied: traitlets>=4.2 in c:\\users\\joaop\\anaconda3\\lib\\site-packages (from nbconvert>=5->dataframe-image) (4.3.3)\nRequirement already satisfied: pyparsing!=2.0.4,!=2.1.2,!=2.1.6,>=2.0.1 in c:\\users\\joaop\\anaconda3\\lib\\site-packages (from matplotlib>=3.1->dataframe-image) (2.4.6)\nRequirement already satisfied: python-dateutil>=2.1 in c:\\users\\joaop\\anaconda3\\lib\\site-packages (from matplotlib>=3.1->dataframe-image) (2.8.1)\nRequirement already satisfied: kiwisolver>=1.0.1 in c:\\users\\joaop\\anaconda3\\lib\\site-packages (from matplotlib>=3.1->dataframe-image) (1.1.0)\nRequirement already satisfied: numpy>=1.11 in c:\\users\\joaop\\anaconda3\\lib\\site-packages (from matplotlib>=3.1->dataframe-image) (1.18.1)\nRequirement already satisfied: cycler>=0.10 in c:\\users\\joaop\\anaconda3\\lib\\site-packages (from matplotlib>=3.1->dataframe-image) (0.10.0)\nRequirement already satisfied: pytz>=2017.2 in c:\\users\\joaop\\anaconda3\\lib\\site-packages (from pandas>=0.24->dataframe-image) (2019.3)\nRequirement already satisfied: MarkupSafe>=0.23 in c:\\users\\joaop\\anaconda3\\lib\\site-packages (from jinja2>=2.4->nbconvert>=5->dataframe-image) (1.1.1)\nRequirement already satisfied: pywin32>=1.0; sys_platform == \"win32\" in c:\\users\\joaop\\anaconda3\\lib\\site-packages (from jupyter-core->nbconvert>=5->dataframe-image) (227)\nRequirement already satisfied: ipython-genutils in c:\\users\\joaop\\anaconda3\\lib\\site-packages (from nbformat>=4.4->nbconvert>=5->dataframe-image) (0.2.0)\nRequirement already satisfied: jsonschema!=2.5.0,>=2.4 in c:\\users\\joaop\\anaconda3\\lib\\site-packages (from nbformat>=4.4->nbconvert>=5->dataframe-image) (3.2.0)\nRequirement already satisfied: six>=1.9.0 in c:\\users\\joaop\\anaconda3\\lib\\site-packages (from bleach->nbconvert>=5->dataframe-image) (1.14.0)\nRequirement already satisfied: webencodings in c:\\users\\joaop\\anaconda3\\lib\\site-packages (from bleach->nbconvert>=5->dataframe-image) (0.5.1)\nRequirement already satisfied: decorator in c:\\users\\joaop\\anaconda3\\lib\\site-packages (from traitlets>=4.2->nbconvert>=5->dataframe-image) (4.4.1)\nRequirement already satisfied: setuptools in c:\\users\\joaop\\anaconda3\\lib\\site-packages (from kiwisolver>=1.0.1->matplotlib>=3.1->dataframe-image) (50.3.2)\nRequirement already satisfied: importlib-metadata; python_version < \"3.8\" in c:\\users\\joaop\\anaconda3\\lib\\site-packages (from jsonschema!=2.5.0,>=2.4->nbformat>=4.4->nbconvert>=5->dataframe-image) (1.7.0)\nRequirement already satisfied: pyrsistent>=0.14.0 in c:\\users\\joaop\\anaconda3\\lib\\site-packages (from jsonschema!=2.5.0,>=2.4->nbformat>=4.4->nbconvert>=5->dataframe-image) (0.15.7)\nRequirement already satisfied: zipp>=0.5 in c:\\users\\joaop\\anaconda3\\lib\\site-packages (from importlib-metadata; python_version < \"3.8\"->jsonschema!=2.5.0,>=2.4->nbformat>=4.4->nbconvert>=5->dataframe-image) (2.2.0)\nInstalling collected packages: multidict, yarl, async-timeout, aiohttp, dataframe-image\nSuccessfully installed aiohttp-3.7.4.post0 async-timeout-3.0.1 dataframe-image-0.1.1 multidict-5.1.0 yarl-1.6.3\n"
          ]
        }
      ]
    },
    {
      "cell_type": "code",
      "metadata": {
        "id": "7eVEDhAUtRiT"
      },
      "source": [
        "import dataframe_image as dfi"
      ],
      "execution_count": 38,
      "outputs": []
    },
    {
      "cell_type": "code",
      "metadata": {
        "colab": {
          "base_uri": "https://localhost:8080/",
          "height": 357
        },
        "id": "9vyEpqu2Li5d",
        "outputId": "856ee488-977c-46d0-d2bf-77d6036eedbe"
      },
      "source": [
        "recomendacao_aplicantes.dfi.export('recomendacoes.png')"
      ],
      "execution_count": 44,
      "outputs": []
    },
    {
      "cell_type": "code",
      "execution_count": 51,
      "metadata": {},
      "outputs": [],
      "source": [
        "informacoes_escolhidos = df.loc[top_5-1]"
      ]
    },
    {
      "cell_type": "code",
      "execution_count": 52,
      "metadata": {},
      "outputs": [],
      "source": [
        "informacoes_escolhidos.dfi.export('informacoes_escolhidos.png')"
      ]
    }
  ]
}